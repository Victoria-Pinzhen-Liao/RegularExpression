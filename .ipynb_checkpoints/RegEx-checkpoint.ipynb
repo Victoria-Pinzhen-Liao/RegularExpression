{
 "cells": [
  {
   "cell_type": "markdown",
   "metadata": {},
   "source": [
    "\n",
    "**RegEx tokens with examples**\n",
    "\n",
    "by Victoria Liao\n",
    "\n",
    "A regular expression is a sequence of characters that specifies a search pattern. \n",
    "This tutorial is written in Scala, but the tokens/patterns can be used in other languages.\n"
   ]
  },
  {
   "cell_type": "markdown",
   "metadata": {},
   "source": [
    "-----------------------------------------------------------\n",
    "\n",
    "# Summary \n",
    "\n",
    "**Char**\n",
    "\n",
    "Digit / Alphanumeric / Whitespace\n",
    "\n",
    "1. `\\d`: Any digit from 0 to 9\n",
    "1. `\\D`: Any non-digit \n",
    "1. `\\w`: Any alphanumeric \n",
    "1. `\\W`: Any non-alphanumeric \n",
    "1. `\\s`: Any whitespace\n",
    "1. `\\S`: Any non-whitespace\n",
    "\n",
    "Wildcard\n",
    "\n",
    "1. Dot `\".\"`: the wildcard char\n",
    "\n",
    "\n",
    "Match character\n",
    "\n",
    "1. `[abc]`: Match specific characters\n",
    "1. `[^abc]`: Exclude specific characters\n",
    "\n",
    "\n",
    " Range\n",
    "\n",
    "1. `[a-z]`: Match a char within the range\n",
    "1. `[^a-z]`: Exclude a char within the range\n",
    "1. `[a-z0-9]`: Match a char within multiple ranges\n",
    "\n",
    "------------\n",
    "\n",
    "**String**\n",
    "\n",
    "Match string \n",
    "\n",
    "1. `\"abc\"`: Match a substring that is the same as the pattern\n",
    "\n",
    "\n",
    "Repetitions \n",
    "\n",
    "1. `{m}`:\tm repetitions\n",
    "1. `{m,n}`: m to n repetitions\n",
    "1. `{m,}`: m to infinite repetitions\n",
    "1. Kleene Star `*` : 0 or more repetitions\n",
    "1. Kleene Plus `+` : 1 or more repetitions\n",
    "\n",
    "Starting and ending\n",
    "\n",
    "1. `^` hat:   Start of the line\n",
    "1. `$` dollar: End of the line\n",
    "\n",
    "Capture Group\n",
    "\n",
    "1. `(…)`:\tCapture Group\n",
    "1. `(.*)`:\tCapture all\n",
    "1. `case ... match ...` : Capture Groups in Scala\n",
    "\n",
    "Optional\n",
    "\n",
    "1.  `?`: match either zero or one of the preceding character or group\n",
    "1. `(foo|bar)` : match `foo` or `bar`\n",
    "\n",
    "Capture all\n",
    "\n",
    "1. `.*` Capture all\n",
    "\n"
   ]
  },
  {
   "cell_type": "code",
   "execution_count": 325,
   "metadata": {},
   "outputs": [
    {
     "data": {
      "text/plain": [
       "\u001b[32mimport \u001b[39m\u001b[36mscala.util.matching.Regex\u001b[39m"
      ]
     },
     "execution_count": 325,
     "metadata": {},
     "output_type": "execute_result"
    }
   ],
   "source": [
    "//  Scala dependency \n",
    "import scala.util.matching.Regex"
   ]
  },
  {
   "cell_type": "markdown",
   "metadata": {},
   "source": [
    "------------------------------------------------\n",
    "\n",
    "# Char\n",
    "\n",
    "## Digit / Alphanumeric / Whitespace\n",
    "\n",
    "### `\\d`: Any digit from 0 to 9 \n",
    "\n",
    "The preceding slash `\\` distinguishes it from the simple d character and indicates a metacharacter.\n",
    "\n",
    "> **Note**: need to use double slash in Scala string for \\d - `\"\\\\d\".r`\n",
    "\n",
    "For example, `\\\\d`: \n",
    "\n",
    "- match `1` in `1234`  \n",
    "- match `2` in `2 foo`\n",
    "\n",
    "\n",
    "### `\\D`: Any non-digit character\n",
    "\n",
    "For example, `\"\\\\D\"` :\n",
    " - match `\" \"` (space) in `1234 a` \n",
    " - match `a` in `a 2 foo`\n",
    "\n",
    "### `\\w`:\tAny alphanumeric character\n",
    "\n",
    "Equivalent to the character range `[A-Za-z0-9_]`\n",
    "\n",
    "For example, `\\\\w`: match \n",
    "- `A` in `Ana`\t\n",
    "- `0` in `*012`\n",
    "\n",
    "and skip `\"***\"`\n",
    "\n",
    "### `\\W`:\tAny non-alphanumeric character\n",
    "\n",
    "For example, `\\\\W`: match  `*` in `\"***\"`\n",
    "\n",
    "and skip \n",
    "- `Ana`\t\n",
    "- `0123 Bob`\n",
    "\n",
    "### `\\s`: Any whitespace\n",
    "\n",
    "Whitespace\n",
    "- space `\" \"`\n",
    "- tab `\\t`\n",
    "- new line `\\n` \n",
    "- carriage return `\\r`"
   ]
  },
  {
   "cell_type": "code",
   "execution_count": 326,
   "metadata": {},
   "outputs": [
    {
     "data": {
      "text/plain": [
       "\u001b[36mpattern\u001b[39m: \u001b[32mRegex\u001b[39m = \\d\n",
       "\u001b[36mtext\u001b[39m: \u001b[32mString\u001b[39m = \u001b[32m\"1234\"\u001b[39m\n",
       "\u001b[36mres325_2\u001b[39m: \u001b[32mOption\u001b[39m[\u001b[32mString\u001b[39m] = \u001b[33mSome\u001b[39m(\u001b[32m\"1\"\u001b[39m)"
      ]
     },
     "execution_count": 326,
     "metadata": {},
     "output_type": "execute_result"
    }
   ],
   "source": [
    "val pattern = \"\\\\d\".r\n",
    "val text = \"1234\"\n",
    "pattern findFirstIn text "
   ]
  },
  {
   "cell_type": "code",
   "execution_count": 327,
   "metadata": {},
   "outputs": [
    {
     "data": {
      "text/plain": [
       "\u001b[36mpattern\u001b[39m: \u001b[32mRegex\u001b[39m = \\D\n",
       "\u001b[36mtext\u001b[39m: \u001b[32mString\u001b[39m = \u001b[32m\"1234 a\"\u001b[39m\n",
       "\u001b[36mres326_2\u001b[39m: \u001b[32mOption\u001b[39m[\u001b[32mString\u001b[39m] = \u001b[33mSome\u001b[39m(\u001b[32m\" \"\u001b[39m)"
      ]
     },
     "execution_count": 327,
     "metadata": {},
     "output_type": "execute_result"
    }
   ],
   "source": [
    "val pattern = \"\\\\D\".r\n",
    "val text = \"1234 a\"\n",
    "pattern findFirstIn text "
   ]
  },
  {
   "cell_type": "code",
   "execution_count": 328,
   "metadata": {
    "scrolled": true
   },
   "outputs": [
    {
     "data": {
      "text/plain": [
       "\u001b[36mpattern\u001b[39m: \u001b[32mRegex\u001b[39m = \\w\n",
       "\u001b[36mtext\u001b[39m: \u001b[32mString\u001b[39m = \u001b[32m\"*012\"\u001b[39m\n",
       "\u001b[36mres327_2\u001b[39m: \u001b[32mOption\u001b[39m[\u001b[32mString\u001b[39m] = \u001b[33mSome\u001b[39m(\u001b[32m\"0\"\u001b[39m)"
      ]
     },
     "execution_count": 328,
     "metadata": {},
     "output_type": "execute_result"
    }
   ],
   "source": [
    "val pattern = \"\\\\w\".r\n",
    "val text = \"*012\"\n",
    "pattern findFirstIn text "
   ]
  },
  {
   "cell_type": "code",
   "execution_count": 329,
   "metadata": {},
   "outputs": [
    {
     "data": {
      "text/plain": [
       "\u001b[36mpattern\u001b[39m: \u001b[32mRegex\u001b[39m = \\W\n",
       "\u001b[36mtext\u001b[39m: \u001b[32mString\u001b[39m = \u001b[32m\"***\"\u001b[39m\n",
       "\u001b[36mres328_2\u001b[39m: \u001b[32mOption\u001b[39m[\u001b[32mString\u001b[39m] = \u001b[33mSome\u001b[39m(\u001b[32m\"*\"\u001b[39m)"
      ]
     },
     "execution_count": 329,
     "metadata": {},
     "output_type": "execute_result"
    }
   ],
   "source": [
    "val pattern = \"\\\\W\".r\n",
    "val text = \"***\"\n",
    "pattern findFirstIn text "
   ]
  },
  {
   "cell_type": "code",
   "execution_count": 330,
   "metadata": {},
   "outputs": [
    {
     "data": {
      "text/plain": [
       "\u001b[36mpattern\u001b[39m: \u001b[32mRegex\u001b[39m = \\d.\\s+abc\n",
       "\u001b[36mtext\u001b[39m: \u001b[32mString\u001b[39m = \u001b[32m\"3.           abc\"\u001b[39m\n",
       "\u001b[36mres329_2\u001b[39m: \u001b[32mOption\u001b[39m[\u001b[32mString\u001b[39m] = \u001b[33mSome\u001b[39m(\u001b[32m\"3.           abc\"\u001b[39m)"
      ]
     },
     "execution_count": 330,
     "metadata": {},
     "output_type": "execute_result"
    }
   ],
   "source": [
    "val pattern = \"\\\\d.\\\\s+abc\".r\n",
    "val text = \"3.           abc\"\n",
    "pattern findFirstIn text "
   ]
  },
  {
   "cell_type": "code",
   "execution_count": 331,
   "metadata": {},
   "outputs": [
    {
     "data": {
      "text/plain": [
       "\u001b[36mpattern\u001b[39m: \u001b[32mRegex\u001b[39m = \\d.\\s+abc\n",
       "\u001b[36mtext\u001b[39m: \u001b[32mString\u001b[39m = \u001b[32m\"4.abc\"\u001b[39m\n",
       "\u001b[36mres330_2\u001b[39m: \u001b[32mOption\u001b[39m[\u001b[32mString\u001b[39m] = \u001b[32mNone\u001b[39m"
      ]
     },
     "execution_count": 331,
     "metadata": {},
     "output_type": "execute_result"
    }
   ],
   "source": [
    "val pattern = \"\\\\d.\\\\s+abc\".r\n",
    "val text = \"4.abc\"\n",
    "pattern findFirstIn text "
   ]
  },
  {
   "cell_type": "markdown",
   "metadata": {},
   "source": [
    "---------------------\n",
    "\n",
    "## Wildcard\n",
    "\n",
    "### Dot \".\": The wildcard char\n",
    "\n",
    "A wildcard is a card that can represent any card in the deck in poker games. Similarly, `.` (dot)  can match any single character (letter, digit, whitespace, everything). \n",
    "\n",
    "\n",
    "> **Note**: \n",
    "```\n",
    ".  is the wildcard\n",
    "\\\\. is the dot symbol or period\n",
    "```\n",
    "\n",
    "For example, `...\\\\.`: match \n",
    "- `\"cat.\"`\n",
    "- `\"896.\"`\n",
    "- `\"?=+.\"`\t\n",
    "\n",
    "and skip\t\n",
    "- `abc1`"
   ]
  },
  {
   "cell_type": "code",
   "execution_count": 332,
   "metadata": {},
   "outputs": [
    {
     "data": {
      "text/plain": [
       "\u001b[36mpattern\u001b[39m: \u001b[32mRegex\u001b[39m = ...\\.\n",
       "\u001b[36mtext\u001b[39m: \u001b[32mString\u001b[39m = \u001b[32m\"cat.\"\u001b[39m\n",
       "\u001b[36mres331_2\u001b[39m: \u001b[32mOption\u001b[39m[\u001b[32mString\u001b[39m] = \u001b[33mSome\u001b[39m(\u001b[32m\"cat.\"\u001b[39m)"
      ]
     },
     "execution_count": 332,
     "metadata": {},
     "output_type": "execute_result"
    }
   ],
   "source": [
    "val pattern = \"...\\\\.\".r\n",
    "val text = \"cat.\"\n",
    "pattern findFirstIn text "
   ]
  },
  {
   "cell_type": "code",
   "execution_count": 333,
   "metadata": {},
   "outputs": [
    {
     "data": {
      "text/plain": [
       "\u001b[36mpattern\u001b[39m: \u001b[32mRegex\u001b[39m = ...\\.\n",
       "\u001b[36mtext\u001b[39m: \u001b[32mString\u001b[39m = \u001b[32m\"abc1\"\u001b[39m\n",
       "\u001b[36mres332_2\u001b[39m: \u001b[32mOption\u001b[39m[\u001b[32mString\u001b[39m] = \u001b[32mNone\u001b[39m"
      ]
     },
     "execution_count": 333,
     "metadata": {},
     "output_type": "execute_result"
    }
   ],
   "source": [
    "val pattern = \"...\\\\.\".r\n",
    "val text = \"abc1\"\n",
    "pattern findFirstIn text "
   ]
  },
  {
   "cell_type": "markdown",
   "metadata": {},
   "source": [
    "-----------\n",
    "\n",
    "## Match character\n",
    "\n",
    "### `[abc]`: Match specific characters\n",
    "\n",
    "Define the specific characters you want to match inside square brackets. The pattern `[abc]` will only match a single `a`, `b`, or `c` letter and nothing else.\n",
    "\n",
    "\n",
    "For example, `[cmf]an`: match \n",
    "- `\"can\"`\n",
    "- `\"man\"`\n",
    "- `\"fan\"`\t\n",
    "\n",
    "and skip\t\n",
    "- `dan`\n",
    "- `ran`\n",
    "- `pan`\n",
    "\n",
    "\n",
    "\n",
    "### `[^abc]`: Exclude specific characters\n",
    "\n",
    "We exclude specific characters by using the square brackets and the `^` (hat). \n",
    "For example, the pattern `[^abc]` will match any single character except for the letters `a`, `b`, or `c`.\n",
    "\n",
    "> **Note** \n",
    "It is different from the hat used as \"start of the line\" `^start` for excluding characters, which can be confusing when reading regular expressions.\n",
    "\n",
    "For example, `[^cmf]an`: match \n",
    "- `dan`\n",
    "- `ran`\n",
    "- `pan`\n",
    "\n",
    "and skip\t\n",
    "- `\"can\"`\n",
    "- `\"man\"`\n",
    "- `\"fan\"`\t\n"
   ]
  },
  {
   "cell_type": "code",
   "execution_count": 334,
   "metadata": {},
   "outputs": [
    {
     "data": {
      "text/plain": [
       "\u001b[36mpattern\u001b[39m: \u001b[32mRegex\u001b[39m = [cmf]an\n",
       "\u001b[36mtext\u001b[39m: \u001b[32mString\u001b[39m = \u001b[32m\"can\"\u001b[39m\n",
       "\u001b[36mres333_2\u001b[39m: \u001b[32mOption\u001b[39m[\u001b[32mString\u001b[39m] = \u001b[33mSome\u001b[39m(\u001b[32m\"can\"\u001b[39m)"
      ]
     },
     "execution_count": 334,
     "metadata": {},
     "output_type": "execute_result"
    }
   ],
   "source": [
    "val pattern = \"[cmf]an\".r\n",
    "val text = \"can\"\n",
    "pattern findFirstIn text "
   ]
  },
  {
   "cell_type": "code",
   "execution_count": 335,
   "metadata": {},
   "outputs": [
    {
     "data": {
      "text/plain": [
       "\u001b[36mpattern\u001b[39m: \u001b[32mRegex\u001b[39m = [cmf]an\n",
       "\u001b[36mtext\u001b[39m: \u001b[32mString\u001b[39m = \u001b[32m\"dan\"\u001b[39m\n",
       "\u001b[36mres334_2\u001b[39m: \u001b[32mOption\u001b[39m[\u001b[32mString\u001b[39m] = \u001b[32mNone\u001b[39m"
      ]
     },
     "execution_count": 335,
     "metadata": {},
     "output_type": "execute_result"
    }
   ],
   "source": [
    "val pattern = \"[cmf]an\".r\n",
    "val text = \"dan\"\n",
    "pattern findFirstIn text "
   ]
  },
  {
   "cell_type": "code",
   "execution_count": 336,
   "metadata": {},
   "outputs": [
    {
     "data": {
      "text/plain": [
       "\u001b[36mpattern\u001b[39m: \u001b[32mRegex\u001b[39m = [^cmf]an\n",
       "\u001b[36mtext\u001b[39m: \u001b[32mString\u001b[39m = \u001b[32m\"dan\"\u001b[39m\n",
       "\u001b[36mres335_2\u001b[39m: \u001b[32mOption\u001b[39m[\u001b[32mString\u001b[39m] = \u001b[33mSome\u001b[39m(\u001b[32m\"dan\"\u001b[39m)"
      ]
     },
     "execution_count": 336,
     "metadata": {},
     "output_type": "execute_result"
    }
   ],
   "source": [
    "val pattern = \"[^cmf]an\".r\n",
    "val text = \"dan\"\n",
    "pattern findFirstIn text "
   ]
  },
  {
   "cell_type": "code",
   "execution_count": 337,
   "metadata": {},
   "outputs": [
    {
     "data": {
      "text/plain": [
       "\u001b[36mpattern\u001b[39m: \u001b[32mRegex\u001b[39m = [^cmf]an\n",
       "\u001b[36mtext\u001b[39m: \u001b[32mString\u001b[39m = \u001b[32m\"can\"\u001b[39m\n",
       "\u001b[36mres336_2\u001b[39m: \u001b[32mOption\u001b[39m[\u001b[32mString\u001b[39m] = \u001b[32mNone\u001b[39m"
      ]
     },
     "execution_count": 337,
     "metadata": {},
     "output_type": "execute_result"
    }
   ],
   "source": [
    "val pattern = \"[^cmf]an\".r\n",
    "val text = \"can\"\n",
    "pattern findFirstIn text "
   ]
  },
  {
   "cell_type": "markdown",
   "metadata": {},
   "source": [
    "-------------------------------------------\n",
    "\n",
    "## Range\n",
    "\n",
    "### `[a-z]`: Match a char within the range\n",
    "\n",
    "Match a character in a list of sequential characters by using the dash to indicate a character range. \n",
    "\n",
    "For example, `[0-6]`: match any single digit character from `0` to `6` \n",
    "\n",
    "\n",
    "\n",
    "### `[^a-z]`: Exclude a char within the range\n",
    "\n",
    "For example, `[^n-p]`: match any single character except for letters `n` to `p`\n",
    "\n",
    "\n",
    "### `[a-z0-9]`: Match a char within multiple ranges\n",
    "Multiple character ranges can also be used in the same set of brackets \n",
    "\n",
    "For example, `[A-Z0-9]`:  match any single digit character from `A-Z` or `0` to `9`  \n",
    "\n"
   ]
  },
  {
   "cell_type": "code",
   "execution_count": 338,
   "metadata": {},
   "outputs": [
    {
     "data": {
      "text/plain": [
       "\u001b[36mpattern\u001b[39m: \u001b[32mRegex\u001b[39m = [A-C][n-p][a-c]\n",
       "\u001b[36mtext\u001b[39m: \u001b[32mString\u001b[39m = \u001b[32m\"Ana\"\u001b[39m\n",
       "\u001b[36mres337_2\u001b[39m: \u001b[32mOption\u001b[39m[\u001b[32mString\u001b[39m] = \u001b[33mSome\u001b[39m(\u001b[32m\"Ana\"\u001b[39m)"
      ]
     },
     "execution_count": 338,
     "metadata": {},
     "output_type": "execute_result"
    }
   ],
   "source": [
    "val pattern = \"[A-C][n-p][a-c]\".r\n",
    "val text = \"Ana\"\n",
    "pattern findFirstIn text "
   ]
  },
  {
   "cell_type": "code",
   "execution_count": 339,
   "metadata": {},
   "outputs": [
    {
     "data": {
      "text/plain": [
       "\u001b[36mpattern\u001b[39m: \u001b[32mRegex\u001b[39m = [A-C][n-p][a-c]\n",
       "\u001b[36mtext\u001b[39m: \u001b[32mString\u001b[39m = \u001b[32m\"aax\"\u001b[39m\n",
       "\u001b[36mres338_2\u001b[39m: \u001b[32mOption\u001b[39m[\u001b[32mString\u001b[39m] = \u001b[32mNone\u001b[39m"
      ]
     },
     "execution_count": 339,
     "metadata": {},
     "output_type": "execute_result"
    }
   ],
   "source": [
    "val pattern = \"[A-C][n-p][a-c]\".r\n",
    "val text = \"aax\"\n",
    "pattern findFirstIn text "
   ]
  },
  {
   "cell_type": "code",
   "execution_count": 340,
   "metadata": {},
   "outputs": [
    {
     "data": {
      "text/plain": [
       "\u001b[36mpattern\u001b[39m: \u001b[32mRegex\u001b[39m = [A-C0-9][A-C0-9]\n",
       "\u001b[36mtext\u001b[39m: \u001b[32mString\u001b[39m = \u001b[32m\"A0x\"\u001b[39m\n",
       "\u001b[36mres339_2\u001b[39m: \u001b[32mOption\u001b[39m[\u001b[32mString\u001b[39m] = \u001b[33mSome\u001b[39m(\u001b[32m\"A0\"\u001b[39m)"
      ]
     },
     "execution_count": 340,
     "metadata": {},
     "output_type": "execute_result"
    }
   ],
   "source": [
    "val pattern = \"[A-C0-9][A-C0-9]\".r\n",
    "val text = \"A0x\"\n",
    "pattern findFirstIn text "
   ]
  },
  {
   "cell_type": "markdown",
   "metadata": {},
   "source": [
    "\n",
    "----------------------\n",
    "\n",
    "# String\n",
    "\n",
    "## Match string\n",
    "\n",
    "### \"abc\": Match a substring that is the same as the pattern\n",
    "\n",
    "For example,`\"foo 1\"`: match `\"foo 1\"` in `\"foo 1 fooo\"`\n",
    "\n"
   ]
  },
  {
   "cell_type": "code",
   "execution_count": 341,
   "metadata": {},
   "outputs": [
    {
     "data": {
      "text/plain": [
       "\u001b[36mpattern\u001b[39m: \u001b[32mRegex\u001b[39m = foo 1\n",
       "\u001b[36mtext\u001b[39m: \u001b[32mString\u001b[39m = \u001b[32m\"foo 1 fooo\"\u001b[39m\n",
       "\u001b[36mres340_2\u001b[39m: \u001b[32mOption\u001b[39m[\u001b[32mString\u001b[39m] = \u001b[33mSome\u001b[39m(\u001b[32m\"foo 1\"\u001b[39m)"
      ]
     },
     "execution_count": 341,
     "metadata": {},
     "output_type": "execute_result"
    }
   ],
   "source": [
    "val pattern = \"foo 1\".r\n",
    "val text = \"foo 1 fooo\"\n",
    "pattern findFirstIn text "
   ]
  },
  {
   "cell_type": "markdown",
   "metadata": {},
   "source": [
    "----------------------------\n",
    "\n",
    "## Repetitions\n",
    "\n",
    "### `{m}`:\tm repetitions\n",
    "\n",
    "For example, `B{3}`:  match the `B` character exactly three times\n",
    "\n",
    "\n",
    "### `{m,n}`: m to n repetitions\n",
    "\n",
    "For example, `B{1,3}`: match the `B` character for 1-3 times\n",
    "\n",
    "\n",
    "\n",
    "### `{m,}`: m to infinite repetitions\n",
    "\n",
    "For example, `B{3,}`:  match the `B` character for at least 3 times\n",
    "\n",
    "\n",
    "\n",
    "> **Note** \n",
    "{,m} is Illegal\n",
    "\n",
    "Error msg:\n",
    "\n",
    "```log\n",
    "java.util.regex.PatternSyntaxException: Illegal repetition near index 2\n",
    "pur{,3}\n",
    "\n",
    "```\n",
    "\n",
    "### Kleene Star `*` : 0 or more repetitions\n",
    "\n",
    "For example, `\\d*`: match any number of digits\n",
    "\n",
    "\n",
    "### Kleene Plus `+` :\t1 or more repetitions\n",
    "\n",
    "For example, `\\d+` match any number of digits with at least one digit.\n",
    "\n",
    "\n",
    "\n"
   ]
  },
  {
   "cell_type": "markdown",
   "metadata": {},
   "source": [
    "\n",
    "### Exercise\n",
    "\n",
    "Match: `aaaabcc`\t,`aabbbbc`, `aacc`\n",
    "Skip: `a`\n",
    "\n",
    "**Solutions**\n",
    "\n",
    "- `a\\w+` \n",
    "- `a{2}[abc]*`\n",
    "- `aa+b*c+` \n",
    "- `a{2,4}b{0,4}c{1,2}`\n"
   ]
  },
  {
   "cell_type": "code",
   "execution_count": 342,
   "metadata": {},
   "outputs": [
    {
     "data": {
      "text/plain": [
       "\u001b[36mpattern\u001b[39m: \u001b[32mRegex\u001b[39m = pur{3}\n",
       "\u001b[36mtext\u001b[39m: \u001b[32mString\u001b[39m = \u001b[32m\"purrrrr\"\u001b[39m\n",
       "\u001b[36mres341_2\u001b[39m: \u001b[32mOption\u001b[39m[\u001b[32mString\u001b[39m] = \u001b[33mSome\u001b[39m(\u001b[32m\"purrr\"\u001b[39m)"
      ]
     },
     "execution_count": 342,
     "metadata": {},
     "output_type": "execute_result"
    }
   ],
   "source": [
    "val pattern = \"pur{3}\".r\n",
    "val text = \"purrrrr\"\n",
    "pattern findFirstIn text "
   ]
  },
  {
   "cell_type": "code",
   "execution_count": 343,
   "metadata": {},
   "outputs": [
    {
     "data": {
      "text/plain": [
       "\u001b[36mpattern\u001b[39m: \u001b[32mRegex\u001b[39m = pur{1,3}\n",
       "\u001b[36mtext\u001b[39m: \u001b[32mString\u001b[39m = \u001b[32m\"purrr\"\u001b[39m\n",
       "\u001b[36mres342_2\u001b[39m: \u001b[32mOption\u001b[39m[\u001b[32mString\u001b[39m] = \u001b[33mSome\u001b[39m(\u001b[32m\"purrr\"\u001b[39m)"
      ]
     },
     "execution_count": 343,
     "metadata": {},
     "output_type": "execute_result"
    }
   ],
   "source": [
    "val pattern = \"pur{1,3}\".r\n",
    "val text = \"purrr\"\n",
    "pattern findFirstIn text "
   ]
  },
  {
   "cell_type": "code",
   "execution_count": 344,
   "metadata": {},
   "outputs": [
    {
     "data": {
      "text/plain": [
       "\u001b[36mpattern\u001b[39m: \u001b[32mRegex\u001b[39m = pur{1,3}\n",
       "\u001b[36mtext\u001b[39m: \u001b[32mString\u001b[39m = \u001b[32m\"pu\"\u001b[39m\n",
       "\u001b[36mres343_2\u001b[39m: \u001b[32mOption\u001b[39m[\u001b[32mString\u001b[39m] = \u001b[32mNone\u001b[39m"
      ]
     },
     "execution_count": 344,
     "metadata": {},
     "output_type": "execute_result"
    }
   ],
   "source": [
    "val pattern = \"pur{1,3}\".r\n",
    "val text = \"pu\"\n",
    "pattern findFirstIn text "
   ]
  },
  {
   "cell_type": "code",
   "execution_count": 345,
   "metadata": {},
   "outputs": [
    {
     "data": {
      "text/plain": [
       "\u001b[36mpattern\u001b[39m: \u001b[32mRegex\u001b[39m = pur{3,}\n",
       "\u001b[36mtext\u001b[39m: \u001b[32mString\u001b[39m = \u001b[32m\"purrrrrrr\"\u001b[39m\n",
       "\u001b[36mres344_2\u001b[39m: \u001b[32mOption\u001b[39m[\u001b[32mString\u001b[39m] = \u001b[33mSome\u001b[39m(\u001b[32m\"purrrrrrr\"\u001b[39m)"
      ]
     },
     "execution_count": 345,
     "metadata": {},
     "output_type": "execute_result"
    }
   ],
   "source": [
    "val pattern = \"pur{3,}\".r\n",
    "val text = \"purrrrrrr\"\n",
    "pattern findFirstIn text "
   ]
  },
  {
   "cell_type": "code",
   "execution_count": 346,
   "metadata": {},
   "outputs": [
    {
     "data": {
      "text/plain": [
       "\u001b[36mpattern\u001b[39m: \u001b[32mRegex\u001b[39m = \\w+\n",
       "\u001b[36mtext\u001b[39m: \u001b[32mString\u001b[39m = \u001b[32m\"\"\u001b[39m\n",
       "\u001b[36mres345_2\u001b[39m: \u001b[32mOption\u001b[39m[\u001b[32mString\u001b[39m] = \u001b[32mNone\u001b[39m"
      ]
     },
     "execution_count": 346,
     "metadata": {},
     "output_type": "execute_result"
    }
   ],
   "source": [
    "val pattern = \"\\\\w+\".r\n",
    "val text = \"\"\n",
    "pattern findFirstIn text "
   ]
  },
  {
   "cell_type": "code",
   "execution_count": 347,
   "metadata": {},
   "outputs": [
    {
     "data": {
      "text/plain": [
       "\u001b[36mpattern\u001b[39m: \u001b[32mRegex\u001b[39m = \\w*\n",
       "\u001b[36mtext\u001b[39m: \u001b[32mString\u001b[39m = \u001b[32m\"\"\u001b[39m\n",
       "\u001b[36mres346_2\u001b[39m: \u001b[32mOption\u001b[39m[\u001b[32mString\u001b[39m] = \u001b[33mSome\u001b[39m(\u001b[32m\"\"\u001b[39m)"
      ]
     },
     "execution_count": 347,
     "metadata": {},
     "output_type": "execute_result"
    }
   ],
   "source": [
    "val pattern = \"\\\\w*\".r\n",
    "val text = \"\"\n",
    "pattern findFirstIn text "
   ]
  },
  {
   "cell_type": "code",
   "execution_count": 348,
   "metadata": {
    "scrolled": true
   },
   "outputs": [
    {
     "data": {
      "text/plain": [
       "\u001b[36mpattern\u001b[39m: \u001b[32mRegex\u001b[39m = \\w*\n",
       "\u001b[36mtext\u001b[39m: \u001b[32mString\u001b[39m = \u001b[32m\"anyAlphanumeric\"\u001b[39m\n",
       "\u001b[36mres347_2\u001b[39m: \u001b[32mOption\u001b[39m[\u001b[32mString\u001b[39m] = \u001b[33mSome\u001b[39m(\u001b[32m\"anyAlphanumeric\"\u001b[39m)"
      ]
     },
     "execution_count": 348,
     "metadata": {},
     "output_type": "execute_result"
    }
   ],
   "source": [
    "val pattern = \"\\\\w*\".r\n",
    "val text = \"anyAlphanumeric\"\n",
    "pattern findFirstIn text "
   ]
  },
  {
   "cell_type": "markdown",
   "metadata": {},
   "source": [
    "-----------------------\n",
    "\n",
    "## Starting and ending\n",
    "\n",
    "### `^` hat:   Start of the line\n",
    "\n",
    "> **Note** \n",
    "`^success` match only a line that begins with the word `\"success\"`, but not the line `\"Error: unsuccessful operation`\n",
    "\n",
    "> **Note** \n",
    "It is different from the hat used inside a set of bracket `[^...]` for excluding characters, which can be confusing when reading regular expressions.\n",
    "\n",
    "\n",
    "\n",
    "### `$` dollar: End of the line\n",
    "\n"
   ]
  },
  {
   "cell_type": "code",
   "execution_count": 349,
   "metadata": {},
   "outputs": [
    {
     "data": {
      "text/plain": [
       "\u001b[36mpattern\u001b[39m: \u001b[32mRegex\u001b[39m = end$\n",
       "\u001b[36mtext\u001b[39m: \u001b[32mString\u001b[39m = \u001b[32m\"The end\"\u001b[39m\n",
       "\u001b[36mres348_2\u001b[39m: \u001b[32mOption\u001b[39m[\u001b[32mString\u001b[39m] = \u001b[33mSome\u001b[39m(\u001b[32m\"end\"\u001b[39m)"
      ]
     },
     "execution_count": 349,
     "metadata": {},
     "output_type": "execute_result"
    }
   ],
   "source": [
    "val pattern = \"end$\".r\n",
    "val text = \"The end\"\n",
    "pattern findFirstIn text "
   ]
  },
  {
   "cell_type": "code",
   "execution_count": 350,
   "metadata": {},
   "outputs": [
    {
     "data": {
      "text/plain": [
       "\u001b[36mpattern\u001b[39m: \u001b[32mRegex\u001b[39m = ^start\n",
       "\u001b[36mtext\u001b[39m: \u001b[32mString\u001b[39m = \u001b[32m\"starting\"\u001b[39m\n",
       "\u001b[36mres349_2\u001b[39m: \u001b[32mOption\u001b[39m[\u001b[32mString\u001b[39m] = \u001b[33mSome\u001b[39m(\u001b[32m\"start\"\u001b[39m)"
      ]
     },
     "execution_count": 350,
     "metadata": {},
     "output_type": "execute_result"
    }
   ],
   "source": [
    "val pattern = \"^start\".r\n",
    "val text = \"starting\"\n",
    "pattern findFirstIn text "
   ]
  },
  {
   "cell_type": "code",
   "execution_count": 351,
   "metadata": {},
   "outputs": [
    {
     "data": {
      "text/plain": [
       "\u001b[36mpattern\u001b[39m: \u001b[32mRegex\u001b[39m = ^start\n",
       "\u001b[36mtext\u001b[39m: \u001b[32mString\u001b[39m = \u001b[32m\"Now start\"\u001b[39m\n",
       "\u001b[36mres350_2\u001b[39m: \u001b[32mOption\u001b[39m[\u001b[32mString\u001b[39m] = \u001b[32mNone\u001b[39m"
      ]
     },
     "execution_count": 351,
     "metadata": {},
     "output_type": "execute_result"
    }
   ],
   "source": [
    "val pattern = \"^start\".r\n",
    "val text = \"Now start\"\n",
    "pattern findFirstIn text "
   ]
  },
  {
   "cell_type": "markdown",
   "metadata": {},
   "source": [
    "------------------\n",
    "\n",
    "## Capture Group\n",
    "\n",
    "Regular expressions allow us not just to match text but also to extract information for further processing. This is done by defining groups of characters and capturing them using the special parentheses `(` and `)` metacharacters. Any subpattern inside a pair of parentheses will be captured as a group.\n",
    "\n",
    "\n",
    "### `(…)` Capture Group\n",
    "\n",
    "Imagine that you had a command line tool to list all the image files you have in the cloud. You could then use a pattern such as `^(IMG\\d+\\.png)$` to capture and extract the full filename, but if you only wanted to capture the filename without the extension, you could use the pattern `^(IMG\\d+)\\.png$`, which only captures the part before the period.\n",
    "\n",
    "### `case ... match` Capture Group in Scala\n",
    "\n",
    "\n",
    "```scala\n",
    "val date = raw\"(\\d{4})-(\\d{2})-(\\d{2})\".r\n",
    "```\n",
    "\n",
    "To extract the capturing groups when a Regex is matched, use it as an extractor in a pattern match:\n",
    "\n",
    "```scala\n",
    "\"2004-01-20\" match {\n",
    "  case date(year, month, day) => s\"$year $month $day\"\n",
    "}\n",
    "```\n",
    "\n",
    "To check only whether the Regex matches, ignoring any groups, use a sequence wildcard:\n",
    "\n",
    "```scala\n",
    "\"2004-01-20\" match {\n",
    "  case date(_*) => \"It's a date!\"\n",
    "}\n",
    "```\n",
    "\n",
    "Extracting only the year from a date could also be expressed with a sequence wildcard:\n",
    "\n",
    "```scala\n",
    "\"2004-01-20\" match {\n",
    "  case date(year, _*) => s\"$year\"\n",
    "}\n",
    "```\n",
    "\n",
    "In a pattern match, Regex matches the entire input typically. However, an unanchored Regex finds the pattern anywhere in the input.\n",
    "\n",
    "```scala\n",
    "val embeddedDate = date.unanchored\n",
    "\n",
    "\"Date: 2004-01-20 17:25:18 GMT (10 years, 28 weeks, 5 days, 17 hours and 51 minutes ago)\" match {\n",
    "  case embeddedDate(\"2004\", \"01\", \"20\") => \"A Scala is born.\"\n",
    "}\n",
    "\n",
    "```\n",
    "\n",
    "### Exercise\n",
    "\n",
    "Capture \n",
    "- `file_record_transcript` in\t`file_record_transcript.pdf` \n",
    "- `file_07241999` in `file_07241999.pdf`\t\n",
    "\n",
    "and skip `testfile_fake.pdf.tmp`\n",
    "\n",
    "**Solution**\n",
    "\n",
    "`^(file_\\S+).pdf$`\n",
    "\n",
    "#### `(a(bc))` Capture Sub-group\n",
    "\n",
    "#### `(.*)` Capture all\n"
   ]
  },
  {
   "cell_type": "code",
   "execution_count": 352,
   "metadata": {},
   "outputs": [
    {
     "name": "stdout",
     "output_type": "stream",
     "text": [
      "file_record_transcript\n"
     ]
    },
    {
     "data": {
      "text/plain": [
       "\u001b[36mpattern\u001b[39m: \u001b[32mRegex\u001b[39m = ^(file_\\S+).pdf$\n",
       "\u001b[36mtext\u001b[39m: \u001b[32mString\u001b[39m = \u001b[32m\"file_record_transcript.pdf\"\u001b[39m\n",
       "\u001b[36mres351_2\u001b[39m: \u001b[32mOption\u001b[39m[\u001b[32mString\u001b[39m] = \u001b[33mSome\u001b[39m(\u001b[32m\"file_record_transcript.pdf\"\u001b[39m)"
      ]
     },
     "execution_count": 352,
     "metadata": {},
     "output_type": "execute_result"
    }
   ],
   "source": [
    "val pattern = \"^(file_\\\\S+).pdf$\".r\n",
    "val text = \"file_record_transcript.pdf\"\n",
    "\n",
    "pattern findFirstIn text \n",
    "\n",
    "text match {\n",
    "  case pattern(file) => println(s\"$file\")\n",
    "}"
   ]
  },
  {
   "cell_type": "code",
   "execution_count": 353,
   "metadata": {},
   "outputs": [
    {
     "data": {
      "text/plain": [
       "\u001b[36mpattern\u001b[39m: \u001b[32mRegex\u001b[39m = ^(file_\\S+).pdf$\n",
       "\u001b[36mtext\u001b[39m: \u001b[32mString\u001b[39m = \u001b[32m\"testfile_fake.pdf.tmp\"\u001b[39m\n",
       "\u001b[36mres352_2\u001b[39m: \u001b[32mOption\u001b[39m[\u001b[32mString\u001b[39m] = \u001b[32mNone\u001b[39m"
      ]
     },
     "execution_count": 353,
     "metadata": {},
     "output_type": "execute_result"
    }
   ],
   "source": [
    "val pattern = \"^(file_\\\\S+).pdf$\".r\n",
    "val text = \"testfile_fake.pdf.tmp\"\n",
    "\n",
    "pattern findFirstIn text "
   ]
  },
  {
   "cell_type": "code",
   "execution_count": 354,
   "metadata": {},
   "outputs": [
    {
     "data": {
      "text/plain": [
       "\u001b[36mdate\u001b[39m: \u001b[32mRegex\u001b[39m = (\\d{4})-(\\d{2})-(\\d{2})\n",
       "\u001b[36membeddedDate\u001b[39m: \u001b[32mscala\u001b[39m.\u001b[32mutil\u001b[39m.\u001b[32mmatching\u001b[39m.\u001b[32mUnanchoredRegex\u001b[39m = (\\d{4})-(\\d{2})-(\\d{2})\n",
       "\u001b[36mres353_2\u001b[39m: \u001b[32mString\u001b[39m = \u001b[32m\"A Scala is born.\"\u001b[39m"
      ]
     },
     "execution_count": 354,
     "metadata": {},
     "output_type": "execute_result"
    }
   ],
   "source": [
    "val date = raw\"(\\d{4})-(\\d{2})-(\\d{2})\".r\n",
    "val embeddedDate = date.unanchored\n",
    "\n",
    "\"Date: 2004-01-20 17:25:18 GMT (10 years, 28 weeks, 5 days, 17 hours and 51 minutes ago)\" match {\n",
    "  case embeddedDate(\"2004\", \"01\", \"20\") => \"A Scala is born.\"\n",
    "}"
   ]
  },
  {
   "cell_type": "markdown",
   "metadata": {},
   "source": [
    "In comparison, we cannot capture the group if we only use the `date`.\n",
    "\n",
    "```scala\n",
    "val date = raw\"(\\d{4})-(\\d{2})-(\\d{2})\".r\n",
    "\n",
    "\"Date: 2004-01-20 17:25:18 GMT (10 years, 28 weeks, 5 days, 17 hours and 51 minutes ago)\" match {\n",
    "  case date(\"2004\", \"01\", \"20\") => \"A Scala is born.\"\n",
    "}\n",
    "\n",
    "```\n",
    "\n",
    "Error msg: \n",
    "\n",
    "```log\n",
    "scala.MatchError: Date: 2004-01-20 17:25:18 GMT (10 years, 28 weeks, 5 days, 17 hours and 51 minutes ago) (of class java.lang.String)\n",
    "\n",
    "  ammonite.$sess.cmd219$Helper.<init>(cmd219.sc:3)\n",
    "  ammonite.$sess.cmd219$.<init>(cmd219.sc:7)\n",
    "  ammonite.$sess.cmd219$.<clinit>(cmd219.sc:-1)\n",
    "```"
   ]
  },
  {
   "cell_type": "markdown",
   "metadata": {},
   "source": [
    "-------------------\n",
    "## Optional\n",
    "\n",
    "### `?`:  match either zero or one of the preceding character or group\n",
    "\n",
    "For example, `ab?c`: match either the strings `\"abc\"` or `\"ac\"` because the b is considered optional.\n",
    "\n",
    "> **Note**\n",
    "The question mark is a special character and you will have to escape it using a slash `\\?` to match a plain question mark character in a string.\n",
    "\n",
    "### `(foo|bar)`: match `foo` or `bar`\n",
    "\n",
    "For example, `(abc|def)`: match `abc` or `def`\n",
    "\n",
    "### Exercise\n",
    "\n",
    "Match\t\n",
    "- `1 file found?`\n",
    "- `2 files found?`\n",
    "- `24 files found?`\t\n",
    "\n",
    "Skip `No files found.`\n",
    "\n",
    "**Solution**\n",
    "`\\d+ files? found\\?`\n",
    "\n"
   ]
  },
  {
   "cell_type": "code",
   "execution_count": 355,
   "metadata": {},
   "outputs": [
    {
     "data": {
      "text/plain": [
       "\u001b[36mpattern\u001b[39m: \u001b[32mRegex\u001b[39m = ab?c\n",
       "\u001b[36mtext\u001b[39m: \u001b[32mString\u001b[39m = \u001b[32m\"abc\"\u001b[39m\n",
       "\u001b[36mres354_2\u001b[39m: \u001b[32mOption\u001b[39m[\u001b[32mString\u001b[39m] = \u001b[33mSome\u001b[39m(\u001b[32m\"abc\"\u001b[39m)"
      ]
     },
     "execution_count": 355,
     "metadata": {},
     "output_type": "execute_result"
    }
   ],
   "source": [
    "\n",
    "val pattern = \"ab?c\".r\n",
    "val text = \"abc\"\n",
    "pattern findFirstIn text \n"
   ]
  },
  {
   "cell_type": "markdown",
   "metadata": {},
   "source": [
    "----------------\n",
    "\n",
    "## Capture all\n",
    "\n",
    "### `.*` would match everything"
   ]
  },
  {
   "cell_type": "code",
   "execution_count": 356,
   "metadata": {},
   "outputs": [
    {
     "data": {
      "text/plain": [
       "\u001b[36mpattern\u001b[39m: \u001b[32mRegex\u001b[39m = .*\n",
       "\u001b[36mtext\u001b[39m: \u001b[32mString\u001b[39m = \u001b[32m\"****** any text 123456 ------------\"\u001b[39m\n",
       "\u001b[36mres355_2\u001b[39m: \u001b[32mOption\u001b[39m[\u001b[32mString\u001b[39m] = \u001b[33mSome\u001b[39m(\u001b[32m\"****** any text 123456 ------------\"\u001b[39m)"
      ]
     },
     "execution_count": 356,
     "metadata": {},
     "output_type": "execute_result"
    }
   ],
   "source": [
    "val pattern = \".*\".r\n",
    "val text = \"****** any text 123456 ------------\"\n",
    "\n",
    "pattern findFirstIn text "
   ]
  },
  {
   "cell_type": "markdown",
   "metadata": {},
   "source": [
    "-----------------------------------------------\n",
    "\n",
    "\n",
    "## Reference\n",
    "\n",
    "1. Regexone.com. 2021. RegexOne - Learn Regular Expressions - Lesson 1: An Introduction, and the ABCs.\n",
    "[online] Available at: [RegexOne - Learn Regular Expressions, 2021](https://regexone.com/lesson/introduction_abcs) [Accessed 5 June 2021].\n",
    "1. Tutorialspoint.com. 2021. Scala - Regular Expressions - Tutorialspoint. [online] Available at: [Scala -\n",
    "Regular Expressions - Tutorialspoint, 2021](https://www.tutorialspoint.com/scala/scala_regular_expressions.htm) [Accessed 5 June 2021]\n",
    "1. Dib, F., 2021. regex101: build, test, and debug regex. [online] regex101. Available at: [Dib, 2021](https://regex101.com/) [Accessed 5 June 2021].\n",
    "1. Scala-lang.org. 2021. Scala Standard Library 2.12.5 - scala.util.matching.Regex. [online] Available at: [Scala Standard Library 2.12.5 - scala.util.matching.Regex, 2021](https://www.scala-lang.org/api/2.12.5/scala/util/matching/Regex.html) [Accessed 7 June 2021]."
   ]
  }
 ],
 "metadata": {
  "kernelspec": {
   "display_name": "Scala 2.12.11",
   "language": "scala",
   "name": "scala_2_12_11"
  },
  "language_info": {
   "codemirror_mode": "text/x-scala",
   "file_extension": ".scala",
   "mimetype": "text/x-scala",
   "name": "scala",
   "nbconvert_exporter": "script",
   "version": "2.12.11"
  }
 },
 "nbformat": 4,
 "nbformat_minor": 4
}
