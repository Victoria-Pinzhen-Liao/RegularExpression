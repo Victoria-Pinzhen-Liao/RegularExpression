{
 "cells": [
  {
   "cell_type": "markdown",
   "metadata": {},
   "source": [
    "# Instruction to regular expression in Scala\n",
    "\n",
    "by Victoria Liao\n",
    "\n",
    "-----------------------------------------------------------\n",
    "\n",
    "## Table of content\n",
    "\n",
    "1. [X] What is regular expression\n",
    "1. [X] Regular expression in Scala\n",
    "    - Regex function #r\n",
    "    - Find & Replace \n",
    "1. [ ] Regular expression patterns\n",
    "    - Basic tokens\n",
    "    - Practical problems\n",
    "1. Reference\n",
    "------------------------\n",
    "\n",
    "Downlaod jupter notebook to one of markdown / pdf / html\n",
    "\n",
    "```\n",
    "jupyter nbconvert --to pdf your_jupyter_notebook.ipynb\n",
    "jupyter nbconvert --to markdown your_jupyter_notebook.ipynb\n",
    "jupyter nbconvert --to html your_jupyter_notebook.ipynb\n",
    "```"
   ]
  },
  {
   "cell_type": "markdown",
   "metadata": {},
   "source": [
    "## 1. What is regular expression?\n",
    "\n",
    "Everything in a string is essentially a character, and we are writing patterns to match a specific string. This\n",
    "pattern is called regular expression. \n",
    "\n",
    "Regular expressions are useful in extracting information from text.\n",
    "\n",
    "---------------------------------------"
   ]
  },
  {
   "cell_type": "markdown",
   "metadata": {},
   "source": [
    "## 2. Regular expression in Scala\n"
   ]
  },
  {
   "cell_type": "code",
   "execution_count": 1,
   "metadata": {},
   "outputs": [
    {
     "data": {
      "text/plain": [
       "\u001b[32mimport \u001b[39m\u001b[36mscala.util.matching.Regex\n",
       "\n",
       "\u001b[39m\n",
       "\u001b[36mtext\u001b[39m: \u001b[32mString\u001b[39m = \u001b[32m\"foo bar foo\"\u001b[39m"
      ]
     },
     "execution_count": 1,
     "metadata": {},
     "output_type": "execute_result"
    }
   ],
   "source": [
    "//  Scala dependency requirement \n",
    "\n",
    "import scala.util.matching.Regex\n",
    "\n",
    "val text = \"foo bar foo\""
   ]
  },
  {
   "cell_type": "markdown",
   "metadata": {},
   "source": [
    "--------------------\n",
    "\n",
    "### 2.1 Regex function #r \n",
    "\n",
    "We create a String and call the r( ) / .r method on it. \n",
    "\n",
    "`String -> RichString -> Regex`"
   ]
  },
  {
   "cell_type": "code",
   "execution_count": 2,
   "metadata": {},
   "outputs": [
    {
     "data": {
      "text/plain": [
       "\u001b[36mpattern\u001b[39m: \u001b[32mRegex\u001b[39m = foo"
      ]
     },
     "execution_count": 2,
     "metadata": {},
     "output_type": "execute_result"
    }
   ],
   "source": [
    " val pattern = \"foo\".r"
   ]
  },
  {
   "cell_type": "markdown",
   "metadata": {},
   "source": [
    "### 2.2 Find & replace\n",
    "\n",
    "### findFirstIn / replaceFirstIn\n",
    "\n",
    "To find / replace a first match of the regular expression "
   ]
  },
  {
   "cell_type": "code",
   "execution_count": 4,
   "metadata": {},
   "outputs": [
    {
     "data": {
      "text/plain": [
       "\u001b[36mres3\u001b[39m: \u001b[32mOption\u001b[39m[\u001b[32mString\u001b[39m] = \u001b[33mSome\u001b[39m(\u001b[32m\"foo\"\u001b[39m)"
      ]
     },
     "execution_count": 4,
     "metadata": {},
     "output_type": "execute_result"
    }
   ],
   "source": [
    "pattern findFirstIn text"
   ]
  },
  {
   "cell_type": "code",
   "execution_count": 3,
   "metadata": {},
   "outputs": [
    {
     "data": {
      "text/plain": [
       "\u001b[36mReplacedText\u001b[39m: \u001b[32mString\u001b[39m = \u001b[32m\"bar\"\u001b[39m\n",
       "\u001b[36mres2_1\u001b[39m: \u001b[32mString\u001b[39m = \u001b[32m\"bar bar foo\"\u001b[39m"
      ]
     },
     "execution_count": 3,
     "metadata": {},
     "output_type": "execute_result"
    }
   ],
   "source": [
    "val ReplacedText = \"bar\"\n",
    "\n",
    "pattern replaceFirstIn(text, ReplacedText)"
   ]
  },
  {
   "cell_type": "markdown",
   "metadata": {},
   "source": [
    "### findAlltIn / replaceAllIn\n",
    "\n",
    "To find / replace all occurrences of the matching word"
   ]
  },
  {
   "cell_type": "code",
   "execution_count": 5,
   "metadata": {},
   "outputs": [
    {
     "name": "stdout",
     "output_type": "stream",
     "text": [
      "foo\n",
      "foo\n"
     ]
    }
   ],
   "source": [
    "pattern findAllIn text foreach println"
   ]
  },
  {
   "cell_type": "code",
   "execution_count": 6,
   "metadata": {},
   "outputs": [
    {
     "data": {
      "text/plain": [
       "\u001b[36mres5\u001b[39m: \u001b[32mString\u001b[39m = \u001b[32m\"bar bar bar\"\u001b[39m"
      ]
     },
     "execution_count": 6,
     "metadata": {},
     "output_type": "execute_result"
    }
   ],
   "source": [
    "pattern replaceAllIn(text, ReplacedText)"
   ]
  },
  {
   "cell_type": "markdown",
   "metadata": {},
   "source": [
    "----------------------\n",
    "## 3. Regular expression patterns\n",
    "\n",
    "To make it easier, I always use `#findFirstIn` in the section.\n",
    "\n",
    "### 3.1 Basic tokens\n",
    "\n",
    "1. A sub string that is the same as the pattern\n",
    "1. \\d: any digit from 0 to 9\n",
    "1. Dot the wildcard\n",
    "----------------------"
   ]
  },
  {
   "cell_type": "code",
   "execution_count": 2,
   "metadata": {},
   "outputs": [
    {
     "data": {
      "text/plain": [
       "\u001b[32mimport \u001b[39m\u001b[36mscala.util.matching.Regex\u001b[39m"
      ]
     },
     "execution_count": 2,
     "metadata": {},
     "output_type": "execute_result"
    }
   ],
   "source": [
    "//  Scala dependency requirement \n",
    "\n",
    "import scala.util.matching.Regex"
   ]
  },
  {
   "cell_type": "markdown",
   "metadata": {},
   "source": [
    "### A sub string that is the same as the pattern\n",
    "\n",
    "\n",
    "Pattern: `\"foo 1\"` \n",
    "\n",
    "Match `\"foo 1\"` in \n",
    " - `\"foo 1 fooo\"`\n",
    " - `\"bar foo 1\"`"
   ]
  },
  {
   "cell_type": "code",
   "execution_count": 15,
   "metadata": {},
   "outputs": [
    {
     "data": {
      "text/plain": [
       "\u001b[36mpattern\u001b[39m: \u001b[32mRegex\u001b[39m = foo 1\n",
       "\u001b[36mtext\u001b[39m: \u001b[32mString\u001b[39m = \u001b[32m\"foo 1 fooo\"\u001b[39m\n",
       "\u001b[36mres14_2\u001b[39m: \u001b[32mOption\u001b[39m[\u001b[32mString\u001b[39m] = \u001b[33mSome\u001b[39m(\u001b[32m\"foo 1\"\u001b[39m)"
      ]
     },
     "execution_count": 15,
     "metadata": {},
     "output_type": "execute_result"
    }
   ],
   "source": [
    "val pattern = \"foo 1\".r\n",
    "val text = \"foo 1 fooo\"\n",
    "pattern findFirstIn text "
   ]
  },
  {
   "cell_type": "markdown",
   "metadata": {},
   "source": [
    "-----------------------------------\n",
    "\n",
    "### \\d: any digit from 0 to 9 \n",
    "\n",
    "The preceding slash `\\` distinguishes it from the simple d character and indicates that it is a metacharacter.\n",
    "\n",
    "> Take away: need to use double slash in Scala string for \\d - `\"\\\\d\".r`\n",
    "\n",
    "-----------\n",
    "\n",
    "Pattern: `\"\\\\d\"`\n",
    "\n",
    " Match `1` in `1234`\n",
    " \n",
    " Match `2` in `2 foo`\n"
   ]
  },
  {
   "cell_type": "code",
   "execution_count": 18,
   "metadata": {},
   "outputs": [
    {
     "data": {
      "text/plain": [
       "\u001b[36mpattern\u001b[39m: \u001b[32mRegex\u001b[39m = \\d\n",
       "\u001b[36mtext\u001b[39m: \u001b[32mString\u001b[39m = \u001b[32m\"1234\"\u001b[39m\n",
       "\u001b[36mres17_2\u001b[39m: \u001b[32mOption\u001b[39m[\u001b[32mString\u001b[39m] = \u001b[33mSome\u001b[39m(\u001b[32m\"1\"\u001b[39m)"
      ]
     },
     "execution_count": 18,
     "metadata": {},
     "output_type": "execute_result"
    }
   ],
   "source": [
    "val pattern = \"\\\\d\".r\n",
    "val text = \"1234\"\n",
    "pattern findFirstIn text "
   ]
  },
  {
   "cell_type": "code",
   "execution_count": 19,
   "metadata": {},
   "outputs": [
    {
     "data": {
      "text/plain": [
       "\u001b[36mpattern\u001b[39m: \u001b[32mRegex\u001b[39m = \\d\n",
       "\u001b[36mtext\u001b[39m: \u001b[32mString\u001b[39m = \u001b[32m\"2 foo\"\u001b[39m\n",
       "\u001b[36mres18_2\u001b[39m: \u001b[32mOption\u001b[39m[\u001b[32mString\u001b[39m] = \u001b[33mSome\u001b[39m(\u001b[32m\"2\"\u001b[39m)"
      ]
     },
     "execution_count": 19,
     "metadata": {},
     "output_type": "execute_result"
    }
   ],
   "source": [
    "val pattern = \"\\\\d\".r\n",
    "val text = \"2 foo\"\n",
    "pattern findFirstIn text "
   ]
  },
  {
   "cell_type": "markdown",
   "metadata": {},
   "source": [
    "---------------------\n",
    "\n",
    "### Dot the wildcard\n",
    "\n",
    "A wildcard is a card that can represent any card in the deck in poker games. Similarly, . (dot)  can match any single character (letter, digit, whitespace, everything). \n",
    "\n",
    "```\n",
    "Note: \n",
    ".  is the wildcard\n",
    "\\\\. is the dot symbol\n",
    "```\n",
    "-----------\n",
    "\n",
    "Pattern: `...\\\\.` \n",
    "\n",
    "Match \n",
    "- `\"cat.\"`\n",
    "- `\"896.\"`\n",
    "- `\"?=+.\"`\t\n",
    "\n",
    "Skip\t\n",
    "- `abc1`"
   ]
  },
  {
   "cell_type": "code",
   "execution_count": 3,
   "metadata": {},
   "outputs": [
    {
     "data": {
      "text/plain": [
       "\u001b[36mpattern\u001b[39m: \u001b[32mRegex\u001b[39m = ...\\.\n",
       "\u001b[36mtext\u001b[39m: \u001b[32mString\u001b[39m = \u001b[32m\"cat.\"\u001b[39m\n",
       "\u001b[36mres2_2\u001b[39m: \u001b[32mOption\u001b[39m[\u001b[32mString\u001b[39m] = \u001b[33mSome\u001b[39m(\u001b[32m\"cat.\"\u001b[39m)"
      ]
     },
     "execution_count": 3,
     "metadata": {},
     "output_type": "execute_result"
    }
   ],
   "source": [
    "val pattern = \"...\\\\.\".r\n",
    "val text = \"cat.\"\n",
    "pattern findFirstIn text "
   ]
  },
  {
   "cell_type": "code",
   "execution_count": 4,
   "metadata": {},
   "outputs": [
    {
     "data": {
      "text/plain": [
       "\u001b[36mpattern\u001b[39m: \u001b[32mRegex\u001b[39m = ...\\.\n",
       "\u001b[36mtext\u001b[39m: \u001b[32mString\u001b[39m = \u001b[32m\"abc1\"\u001b[39m\n",
       "\u001b[36mres3_2\u001b[39m: \u001b[32mOption\u001b[39m[\u001b[32mString\u001b[39m] = \u001b[32mNone\u001b[39m"
      ]
     },
     "execution_count": 4,
     "metadata": {},
     "output_type": "execute_result"
    }
   ],
   "source": [
    "val pattern = \"...\\\\.\".r\n",
    "val text = \"abc1\"\n",
    "pattern findFirstIn text "
   ]
  },
  {
   "cell_type": "code",
   "execution_count": null,
   "metadata": {},
   "outputs": [],
   "source": []
  },
  {
   "cell_type": "markdown",
   "metadata": {},
   "source": [
    "# Reference\n",
    "\n",
    "1. Regexone.com. 2021. RegexOne - Learn Regular Expressions - Lesson 1: An Introduction, and the ABCs.\n",
    "[online] Available at: [RegexOne - Learn Regular Expressions, 2021](https://regexone.com/lesson/introduction_abcs) [Accessed 5 June 2021].\n",
    "1. Tutorialspoint.com. 2021. Scala - Regular Expressions - Tutorialspoint. [online] Available at: [Scala -\n",
    "Regular Expressions - Tutorialspoint, 2021](https://www.tutorialspoint.com/scala/scala_regular_expressions.htm) [Accessed 5 June 2021]\n",
    "1. Dib, F., 2021. regex101: build, test, and debug regex. [online] regex101. Available at: [Dib, 2021](https://regex101.com/) [Accessed 5 June 2021]."
   ]
  },
  {
   "cell_type": "code",
   "execution_count": null,
   "metadata": {},
   "outputs": [],
   "source": []
  }
 ],
 "metadata": {
  "kernelspec": {
   "display_name": "Scala 2.12.11",
   "language": "scala",
   "name": "scala_2_12_11"
  },
  "language_info": {
   "codemirror_mode": "text/x-scala",
   "file_extension": ".scala",
   "mimetype": "text/x-scala",
   "name": "scala",
   "nbconvert_exporter": "script",
   "version": "2.12.11"
  }
 },
 "nbformat": 4,
 "nbformat_minor": 4
}
