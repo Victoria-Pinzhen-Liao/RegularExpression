{
 "cells": [
  {
   "cell_type": "markdown",
   "metadata": {},
   "source": [
    "# Introduction to regular expression with examples\n",
    "\n",
    "A regular expression is a sequence of characters that specifies a search pattern. \n",
    "This tutorial is written in Scala, but the tokens/patterns can be used in other languages.\n"
   ]
  },
  {
   "cell_type": "markdown",
   "metadata": {},
   "source": [
    "-----------------------------------------------------------\n",
    "\n",
    "## Summary \n",
    "\n",
    "**Char**\n",
    "\n",
    "Digit / Alphanumeric / Whitespace\n",
    "\n",
    "1. `\\d`: Any digit from 0 to 9\n",
    "1. `\\D`: Any non-digit \n",
    "1. `\\w`: Any alphanumeric \n",
    "1. `\\W`: Any non-alphanumeric \n",
    "1. `\\s`: Any whitespace\n",
    "1. `\\S`: Any non-whitespace\n",
    "\n",
    "Wildcard\n",
    "\n",
    "1. `\".\"`: the wildcard char\n",
    "\n",
    "\n",
    "Match character\n",
    "\n",
    "1. `[abc]`: Match specific characters\n",
    "1. `[^abc]`: Exclude specific characters\n",
    "\n",
    "\n",
    " Range\n",
    "\n",
    "1. `[a-z]`: Match a char within the range\n",
    "1. `[^a-z]`: Exclude a char within the range\n",
    "1. `[a-z0-9]`: Match a char within multiple ranges\n",
    "\n",
    "------------\n",
    "\n",
    "**String**\n",
    "\n",
    "Match string \n",
    "\n",
    "1. `\"abc\"`: Match a substring that is the same as the pattern\n",
    "\n",
    "\n",
    "Repetitions \n",
    "\n",
    "1. `{m}`:\tm repetitions\n",
    "1. `{m,n}`: m to n repetitions\n",
    "1. `{m,}`: m to infinite repetitions\n",
    "1.  `*` : Kleene Star - 0 or more repetitions\n",
    "1.  `+` : Kleene Plus - 1 or more repetitions\n",
    "\n",
    "Starting and ending\n",
    "\n",
    "1. `^` :   Start of the line\n",
    "1. `$` : End of the line\n",
    "\n",
    "Capture Group\n",
    "\n",
    "1. `(…)`:\tCapture Group\n",
    "1. `case ... match ...` : Capture Groups in Scala\n",
    "\n",
    "Optional\n",
    "\n",
    "1.  `?`: match either zero or one of the preceding character or group\n",
    "1. `(foo|bar)` : match `foo` or `bar`\n",
    "\n",
    "Capture all\n",
    "\n",
    "1. `.*` Capture all\n",
    "\n"
   ]
  },
  {
   "cell_type": "code",
   "execution_count": 1,
   "metadata": {},
   "outputs": [
    {
     "data": {
      "text/plain": [
       "\u001b[32mimport \u001b[39m\u001b[36mscala.util.matching.Regex\u001b[39m"
      ]
     },
     "execution_count": 1,
     "metadata": {},
     "output_type": "execute_result"
    }
   ],
   "source": [
    "//  Scala dependency \n",
    "import scala.util.matching.Regex"
   ]
  },
  {
   "cell_type": "markdown",
   "metadata": {},
   "source": [
    "------------------------------------------------\n",
    "\n",
    "## Char\n",
    "\n",
    "### Digit / Alphanumeric / Whitespace\n",
    "\n",
    "#### `\\d`: Any digit from 0 to 9 \n",
    "\n",
    "The preceding slash `\\` distinguishes it from the simple d character and indicates a metacharacter.\n",
    "\n",
    "> **Note**: need to use double slash in Scala string for \\d - `\"\\\\d\".r`\n",
    "\n",
    "For example, `\\\\d`: \n",
    "\n",
    "- match `1` in `1234`  \n",
    "- match `2` in `2 foo`\n",
    "\n",
    "\n",
    "#### `\\D`: Any non-digit character\n",
    "\n",
    "For example, `\"\\\\D\"` :\n",
    " - match `\" \"` (space) in `1234 a` \n",
    " - match `a` in `a 2 foo`\n",
    "\n",
    "#### `\\w`:\tAny alphanumeric character\n",
    "\n",
    "Equivalent to the character range `[A-Za-z0-9_]`\n",
    "\n",
    "For example, `\\\\w`: match \n",
    "- `A` in `Ana`\t\n",
    "- `0` in `*012`\n",
    "\n",
    "and skip `\"***\"`\n",
    "\n",
    "#### `\\W`:\tAny non-alphanumeric character\n",
    "\n",
    "For example, `\\\\W`: match  `*` in `\"***\"`\n",
    "\n",
    "and skip \n",
    "- `Ana`\t\n",
    "- `0123 Bob`\n",
    "\n",
    "#### `\\s`: Any whitespace\n",
    "\n",
    "Whitespace\n",
    "- space `\" \"`\n",
    "- tab `\\t`\n",
    "- new line `\\n` \n",
    "- carriage return `\\r`"
   ]
  },
  {
   "cell_type": "code",
   "execution_count": 2,
   "metadata": {},
   "outputs": [
    {
     "data": {
      "text/plain": [
       "\u001b[36mpattern\u001b[39m: \u001b[32mRegex\u001b[39m = \\d\n",
       "\u001b[36mtext\u001b[39m: \u001b[32mString\u001b[39m = \u001b[32m\"1234\"\u001b[39m\n",
       "\u001b[36mres1_2\u001b[39m: \u001b[32mOption\u001b[39m[\u001b[32mString\u001b[39m] = \u001b[33mSome\u001b[39m(\u001b[32m\"1\"\u001b[39m)"
      ]
     },
     "execution_count": 2,
     "metadata": {},
     "output_type": "execute_result"
    }
   ],
   "source": [
    "val pattern = \"\\\\d\".r\n",
    "val text = \"1234\"\n",
    "pattern findFirstIn text "
   ]
  },
  {
   "cell_type": "code",
   "execution_count": 3,
   "metadata": {},
   "outputs": [
    {
     "data": {
      "text/plain": [
       "\u001b[36mpattern\u001b[39m: \u001b[32mRegex\u001b[39m = \\D\n",
       "\u001b[36mtext\u001b[39m: \u001b[32mString\u001b[39m = \u001b[32m\"1234 a\"\u001b[39m\n",
       "\u001b[36mres2_2\u001b[39m: \u001b[32mOption\u001b[39m[\u001b[32mString\u001b[39m] = \u001b[33mSome\u001b[39m(\u001b[32m\" \"\u001b[39m)"
      ]
     },
     "execution_count": 3,
     "metadata": {},
     "output_type": "execute_result"
    }
   ],
   "source": [
    "val pattern = \"\\\\D\".r\n",
    "val text = \"1234 a\"\n",
    "pattern findFirstIn text "
   ]
  },
  {
   "cell_type": "code",
   "execution_count": 4,
   "metadata": {
    "scrolled": true
   },
   "outputs": [
    {
     "data": {
      "text/plain": [
       "\u001b[36mpattern\u001b[39m: \u001b[32mRegex\u001b[39m = \\w\n",
       "\u001b[36mtext\u001b[39m: \u001b[32mString\u001b[39m = \u001b[32m\"*012\"\u001b[39m\n",
       "\u001b[36mres3_2\u001b[39m: \u001b[32mOption\u001b[39m[\u001b[32mString\u001b[39m] = \u001b[33mSome\u001b[39m(\u001b[32m\"0\"\u001b[39m)"
      ]
     },
     "execution_count": 4,
     "metadata": {},
     "output_type": "execute_result"
    }
   ],
   "source": [
    "val pattern = \"\\\\w\".r\n",
    "val text = \"*012\"\n",
    "pattern findFirstIn text "
   ]
  },
  {
   "cell_type": "code",
   "execution_count": 5,
   "metadata": {},
   "outputs": [
    {
     "data": {
      "text/plain": [
       "\u001b[36mpattern\u001b[39m: \u001b[32mRegex\u001b[39m = \\W\n",
       "\u001b[36mtext\u001b[39m: \u001b[32mString\u001b[39m = \u001b[32m\"***\"\u001b[39m\n",
       "\u001b[36mres4_2\u001b[39m: \u001b[32mOption\u001b[39m[\u001b[32mString\u001b[39m] = \u001b[33mSome\u001b[39m(\u001b[32m\"*\"\u001b[39m)"
      ]
     },
     "execution_count": 5,
     "metadata": {},
     "output_type": "execute_result"
    }
   ],
   "source": [
    "val pattern = \"\\\\W\".r\n",
    "val text = \"***\"\n",
    "pattern findFirstIn text "
   ]
  },
  {
   "cell_type": "code",
   "execution_count": 6,
   "metadata": {},
   "outputs": [
    {
     "data": {
      "text/plain": [
       "\u001b[36mpattern\u001b[39m: \u001b[32mRegex\u001b[39m = \\d.\\s+abc\n",
       "\u001b[36mtext\u001b[39m: \u001b[32mString\u001b[39m = \u001b[32m\"3.           abc\"\u001b[39m\n",
       "\u001b[36mres5_2\u001b[39m: \u001b[32mOption\u001b[39m[\u001b[32mString\u001b[39m] = \u001b[33mSome\u001b[39m(\u001b[32m\"3.           abc\"\u001b[39m)"
      ]
     },
     "execution_count": 6,
     "metadata": {},
     "output_type": "execute_result"
    }
   ],
   "source": [
    "val pattern = \"\\\\d.\\\\s+abc\".r\n",
    "val text = \"3.           abc\"\n",
    "pattern findFirstIn text "
   ]
  },
  {
   "cell_type": "code",
   "execution_count": 7,
   "metadata": {},
   "outputs": [
    {
     "data": {
      "text/plain": [
       "\u001b[36mpattern\u001b[39m: \u001b[32mRegex\u001b[39m = \\d.\\s+abc\n",
       "\u001b[36mtext\u001b[39m: \u001b[32mString\u001b[39m = \u001b[32m\"4.abc\"\u001b[39m\n",
       "\u001b[36mres6_2\u001b[39m: \u001b[32mOption\u001b[39m[\u001b[32mString\u001b[39m] = \u001b[32mNone\u001b[39m"
      ]
     },
     "execution_count": 7,
     "metadata": {},
     "output_type": "execute_result"
    }
   ],
   "source": [
    "val pattern = \"\\\\d.\\\\s+abc\".r\n",
    "val text = \"4.abc\"\n",
    "pattern findFirstIn text "
   ]
  },
  {
   "cell_type": "markdown",
   "metadata": {},
   "source": [
    "---------------------\n",
    "\n",
    "### Wildcard\n",
    "\n",
    "####  \".\": The wildcard char\n",
    "\n",
    "A wildcard is a card that can represent any card in the deck in poker games. Similarly, `.` (dot)  can match any single character (letter, digit, whitespace, everything). \n",
    "\n",
    "\n",
    "> **Note**: \n",
    "```\n",
    ".  is the wildcard\n",
    "\\\\. is the dot symbol or period\n",
    "```\n",
    "\n",
    "For example, `...\\\\.`: match \n",
    "- `\"cat.\"`\n",
    "- `\"896.\"`\n",
    "- `\"?=+.\"`\t\n",
    "\n",
    "and skip\t\n",
    "- `abc1`"
   ]
  },
  {
   "cell_type": "code",
   "execution_count": 8,
   "metadata": {},
   "outputs": [
    {
     "data": {
      "text/plain": [
       "\u001b[36mpattern\u001b[39m: \u001b[32mRegex\u001b[39m = ...\\.\n",
       "\u001b[36mtext\u001b[39m: \u001b[32mString\u001b[39m = \u001b[32m\"cat.\"\u001b[39m\n",
       "\u001b[36mres7_2\u001b[39m: \u001b[32mOption\u001b[39m[\u001b[32mString\u001b[39m] = \u001b[33mSome\u001b[39m(\u001b[32m\"cat.\"\u001b[39m)"
      ]
     },
     "execution_count": 8,
     "metadata": {},
     "output_type": "execute_result"
    }
   ],
   "source": [
    "val pattern = \"...\\\\.\".r\n",
    "val text = \"cat.\"\n",
    "pattern findFirstIn text "
   ]
  },
  {
   "cell_type": "code",
   "execution_count": 9,
   "metadata": {},
   "outputs": [
    {
     "data": {
      "text/plain": [
       "\u001b[36mpattern\u001b[39m: \u001b[32mRegex\u001b[39m = ...\\.\n",
       "\u001b[36mtext\u001b[39m: \u001b[32mString\u001b[39m = \u001b[32m\"abc1\"\u001b[39m\n",
       "\u001b[36mres8_2\u001b[39m: \u001b[32mOption\u001b[39m[\u001b[32mString\u001b[39m] = \u001b[32mNone\u001b[39m"
      ]
     },
     "execution_count": 9,
     "metadata": {},
     "output_type": "execute_result"
    }
   ],
   "source": [
    "val pattern = \"...\\\\.\".r\n",
    "val text = \"abc1\"\n",
    "pattern findFirstIn text "
   ]
  },
  {
   "cell_type": "markdown",
   "metadata": {},
   "source": [
    "-----------\n",
    "\n",
    "### Match character\n",
    "\n",
    "#### `[abc]`: Match specific characters\n",
    "\n",
    "Define the specific characters you want to match inside square brackets. The pattern `[abc]` will only match a single `a`, `b`, or `c` letter and nothing else.\n",
    "\n",
    "\n",
    "For example, `[cmf]an`: match \n",
    "- `\"can\"`\n",
    "- `\"man\"`\n",
    "- `\"fan\"`\t\n",
    "\n",
    "and skip\t\n",
    "- `dan`\n",
    "- `ran`\n",
    "- `pan`\n",
    "\n",
    "\n",
    "\n",
    "#### `[^abc]`: Exclude specific characters\n",
    "\n",
    "We exclude specific characters by using the square brackets and the `^` (hat). \n",
    "For example, the pattern `[^abc]` will match any single character except for the letters `a`, `b`, or `c`.\n",
    "\n",
    "> **Note** \n",
    "It is different from the hat used as \"start of the line\" `^start` for excluding characters, which can be confusing when reading regular expressions.\n",
    "\n",
    "For example, `[^cmf]an`: match \n",
    "- `dan`\n",
    "- `ran`\n",
    "- `pan`\n",
    "\n",
    "and skip\t\n",
    "- `\"can\"`\n",
    "- `\"man\"`\n",
    "- `\"fan\"`\t\n"
   ]
  },
  {
   "cell_type": "code",
   "execution_count": 10,
   "metadata": {},
   "outputs": [
    {
     "data": {
      "text/plain": [
       "\u001b[36mpattern\u001b[39m: \u001b[32mRegex\u001b[39m = [cmf]an\n",
       "\u001b[36mtext\u001b[39m: \u001b[32mString\u001b[39m = \u001b[32m\"can\"\u001b[39m\n",
       "\u001b[36mres9_2\u001b[39m: \u001b[32mOption\u001b[39m[\u001b[32mString\u001b[39m] = \u001b[33mSome\u001b[39m(\u001b[32m\"can\"\u001b[39m)"
      ]
     },
     "execution_count": 10,
     "metadata": {},
     "output_type": "execute_result"
    }
   ],
   "source": [
    "val pattern = \"[cmf]an\".r\n",
    "val text = \"can\"\n",
    "pattern findFirstIn text "
   ]
  },
  {
   "cell_type": "code",
   "execution_count": 11,
   "metadata": {},
   "outputs": [
    {
     "data": {
      "text/plain": [
       "\u001b[36mpattern\u001b[39m: \u001b[32mRegex\u001b[39m = [cmf]an\n",
       "\u001b[36mtext\u001b[39m: \u001b[32mString\u001b[39m = \u001b[32m\"dan\"\u001b[39m\n",
       "\u001b[36mres10_2\u001b[39m: \u001b[32mOption\u001b[39m[\u001b[32mString\u001b[39m] = \u001b[32mNone\u001b[39m"
      ]
     },
     "execution_count": 11,
     "metadata": {},
     "output_type": "execute_result"
    }
   ],
   "source": [
    "val pattern = \"[cmf]an\".r\n",
    "val text = \"dan\"\n",
    "pattern findFirstIn text "
   ]
  },
  {
   "cell_type": "code",
   "execution_count": 12,
   "metadata": {},
   "outputs": [
    {
     "data": {
      "text/plain": [
       "\u001b[36mpattern\u001b[39m: \u001b[32mRegex\u001b[39m = [^cmf]an\n",
       "\u001b[36mtext\u001b[39m: \u001b[32mString\u001b[39m = \u001b[32m\"dan\"\u001b[39m\n",
       "\u001b[36mres11_2\u001b[39m: \u001b[32mOption\u001b[39m[\u001b[32mString\u001b[39m] = \u001b[33mSome\u001b[39m(\u001b[32m\"dan\"\u001b[39m)"
      ]
     },
     "execution_count": 12,
     "metadata": {},
     "output_type": "execute_result"
    }
   ],
   "source": [
    "val pattern = \"[^cmf]an\".r\n",
    "val text = \"dan\"\n",
    "pattern findFirstIn text "
   ]
  },
  {
   "cell_type": "code",
   "execution_count": 13,
   "metadata": {},
   "outputs": [
    {
     "data": {
      "text/plain": [
       "\u001b[36mpattern\u001b[39m: \u001b[32mRegex\u001b[39m = [^cmf]an\n",
       "\u001b[36mtext\u001b[39m: \u001b[32mString\u001b[39m = \u001b[32m\"can\"\u001b[39m\n",
       "\u001b[36mres12_2\u001b[39m: \u001b[32mOption\u001b[39m[\u001b[32mString\u001b[39m] = \u001b[32mNone\u001b[39m"
      ]
     },
     "execution_count": 13,
     "metadata": {},
     "output_type": "execute_result"
    }
   ],
   "source": [
    "val pattern = \"[^cmf]an\".r\n",
    "val text = \"can\"\n",
    "pattern findFirstIn text "
   ]
  },
  {
   "cell_type": "markdown",
   "metadata": {},
   "source": [
    "-------------------------------------------\n",
    "\n",
    "### Range\n",
    "\n",
    "#### `[a-z]`: Match a char within the range\n",
    "\n",
    "Match a character in a list of sequential characters by using the dash to indicate a character range. \n",
    "\n",
    "For example, `[0-6]`: match any single digit character from `0` to `6` \n",
    "\n",
    "\n",
    "\n",
    "#### `[^a-z]`: Exclude a char within the range\n",
    "\n",
    "For example, `[^n-p]`: match any single character except for letters `n` to `p`\n",
    "\n",
    "\n",
    "#### `[a-z0-9]`: Match a char within multiple ranges\n",
    "Multiple character ranges can also be used in the same set of brackets \n",
    "\n",
    "For example, `[A-Z0-9]`:  match any single digit character from `A-Z` or `0` to `9`  \n",
    "\n"
   ]
  },
  {
   "cell_type": "code",
   "execution_count": 14,
   "metadata": {},
   "outputs": [
    {
     "data": {
      "text/plain": [
       "\u001b[36mpattern\u001b[39m: \u001b[32mRegex\u001b[39m = [A-C][n-p][a-c]\n",
       "\u001b[36mtext\u001b[39m: \u001b[32mString\u001b[39m = \u001b[32m\"Ana\"\u001b[39m\n",
       "\u001b[36mres13_2\u001b[39m: \u001b[32mOption\u001b[39m[\u001b[32mString\u001b[39m] = \u001b[33mSome\u001b[39m(\u001b[32m\"Ana\"\u001b[39m)"
      ]
     },
     "execution_count": 14,
     "metadata": {},
     "output_type": "execute_result"
    }
   ],
   "source": [
    "val pattern = \"[A-C][n-p][a-c]\".r\n",
    "val text = \"Ana\"\n",
    "pattern findFirstIn text "
   ]
  },
  {
   "cell_type": "code",
   "execution_count": 15,
   "metadata": {},
   "outputs": [
    {
     "data": {
      "text/plain": [
       "\u001b[36mpattern\u001b[39m: \u001b[32mRegex\u001b[39m = [A-C][n-p][a-c]\n",
       "\u001b[36mtext\u001b[39m: \u001b[32mString\u001b[39m = \u001b[32m\"aax\"\u001b[39m\n",
       "\u001b[36mres14_2\u001b[39m: \u001b[32mOption\u001b[39m[\u001b[32mString\u001b[39m] = \u001b[32mNone\u001b[39m"
      ]
     },
     "execution_count": 15,
     "metadata": {},
     "output_type": "execute_result"
    }
   ],
   "source": [
    "val pattern = \"[A-C][n-p][a-c]\".r\n",
    "val text = \"aax\"\n",
    "pattern findFirstIn text "
   ]
  },
  {
   "cell_type": "code",
   "execution_count": 16,
   "metadata": {},
   "outputs": [
    {
     "data": {
      "text/plain": [
       "\u001b[36mpattern\u001b[39m: \u001b[32mRegex\u001b[39m = [A-C0-9][A-C0-9]\n",
       "\u001b[36mtext\u001b[39m: \u001b[32mString\u001b[39m = \u001b[32m\"A0x\"\u001b[39m\n",
       "\u001b[36mres15_2\u001b[39m: \u001b[32mOption\u001b[39m[\u001b[32mString\u001b[39m] = \u001b[33mSome\u001b[39m(\u001b[32m\"A0\"\u001b[39m)"
      ]
     },
     "execution_count": 16,
     "metadata": {},
     "output_type": "execute_result"
    }
   ],
   "source": [
    "val pattern = \"[A-C0-9][A-C0-9]\".r\n",
    "val text = \"A0x\"\n",
    "pattern findFirstIn text "
   ]
  },
  {
   "cell_type": "markdown",
   "metadata": {},
   "source": [
    "\n",
    "----------------------\n",
    "\n",
    "## String\n",
    "\n",
    "### Match string\n",
    "\n",
    "#### \"abc\": Match a substring that is the same as the pattern\n",
    "\n",
    "For example,`\"foo 1\"`: match `\"foo 1\"` in `\"foo 1 fooo\"`\n",
    "\n"
   ]
  },
  {
   "cell_type": "code",
   "execution_count": 17,
   "metadata": {},
   "outputs": [
    {
     "data": {
      "text/plain": [
       "\u001b[36mpattern\u001b[39m: \u001b[32mRegex\u001b[39m = foo 1\n",
       "\u001b[36mtext\u001b[39m: \u001b[32mString\u001b[39m = \u001b[32m\"foo 1 fooo\"\u001b[39m\n",
       "\u001b[36mres16_2\u001b[39m: \u001b[32mOption\u001b[39m[\u001b[32mString\u001b[39m] = \u001b[33mSome\u001b[39m(\u001b[32m\"foo 1\"\u001b[39m)"
      ]
     },
     "execution_count": 17,
     "metadata": {},
     "output_type": "execute_result"
    }
   ],
   "source": [
    "val pattern = \"foo 1\".r\n",
    "val text = \"foo 1 fooo\"\n",
    "pattern findFirstIn text "
   ]
  },
  {
   "cell_type": "markdown",
   "metadata": {},
   "source": [
    "----------------------------\n",
    "\n",
    "### Repetitions\n",
    "\n",
    "#### `{m}`:\tm repetitions\n",
    "\n",
    "For example, `B{3}`:  match the `B` character exactly three times\n",
    "\n",
    "\n",
    "#### `{m,n}`: m to n repetitions\n",
    "\n",
    "For example, `B{1,3}`: match the `B` character for 1-3 times\n",
    "\n",
    "\n",
    "\n",
    "#### `{m,}`: m to infinite repetitions\n",
    "\n",
    "For example, `B{3,}`:  match the `B` character for at least 3 times\n",
    "\n",
    "\n",
    "\n",
    "> **Note** \n",
    "{,m} is Illegal\n",
    "\n",
    "Error msg:\n",
    "\n",
    "```\n",
    "java.util.regex.PatternSyntaxException: \n",
    "Illegal repetition near index 2 pur{,3}\n",
    "\n",
    "```\n",
    "\n",
    "####  `*` : Kleene Star 0 or more repetitions\n",
    "\n",
    "For example, `\\d*`: match any number of digits\n",
    "\n",
    "\n",
    "####  `+` :\t Kleene Plus 1 or more repetitions\n",
    "\n",
    "For example, `\\d+` match any number of digits with at least one digit.\n",
    "\n",
    "\n",
    "\n"
   ]
  },
  {
   "cell_type": "markdown",
   "metadata": {},
   "source": [
    "#### Exercise\n",
    "\n",
    "Match: `aaaabcc`\t,`aabbbbc`, `aacc`\n",
    "Skip: `a`\n",
    "\n",
    "**Solutions**\n",
    "\n",
    "- `a\\w+` \n",
    "- `a{2}[abc]*`\n",
    "- `aa+b*c+` \n",
    "- `a{2,4}b{0,4}c{1,2}`\n"
   ]
  },
  {
   "cell_type": "code",
   "execution_count": 18,
   "metadata": {},
   "outputs": [
    {
     "data": {
      "text/plain": [
       "\u001b[36mpattern\u001b[39m: \u001b[32mRegex\u001b[39m = pur{3}\n",
       "\u001b[36mtext\u001b[39m: \u001b[32mString\u001b[39m = \u001b[32m\"purrrrr\"\u001b[39m\n",
       "\u001b[36mres17_2\u001b[39m: \u001b[32mOption\u001b[39m[\u001b[32mString\u001b[39m] = \u001b[33mSome\u001b[39m(\u001b[32m\"purrr\"\u001b[39m)"
      ]
     },
     "execution_count": 18,
     "metadata": {},
     "output_type": "execute_result"
    }
   ],
   "source": [
    "val pattern = \"pur{3}\".r\n",
    "val text = \"purrrrr\"\n",
    "pattern findFirstIn text "
   ]
  },
  {
   "cell_type": "code",
   "execution_count": 19,
   "metadata": {},
   "outputs": [
    {
     "data": {
      "text/plain": [
       "\u001b[36mpattern\u001b[39m: \u001b[32mRegex\u001b[39m = pur{1,3}\n",
       "\u001b[36mtext\u001b[39m: \u001b[32mString\u001b[39m = \u001b[32m\"purrr\"\u001b[39m\n",
       "\u001b[36mres18_2\u001b[39m: \u001b[32mOption\u001b[39m[\u001b[32mString\u001b[39m] = \u001b[33mSome\u001b[39m(\u001b[32m\"purrr\"\u001b[39m)"
      ]
     },
     "execution_count": 19,
     "metadata": {},
     "output_type": "execute_result"
    }
   ],
   "source": [
    "val pattern = \"pur{1,3}\".r\n",
    "val text = \"purrr\"\n",
    "pattern findFirstIn text "
   ]
  },
  {
   "cell_type": "code",
   "execution_count": 20,
   "metadata": {},
   "outputs": [
    {
     "data": {
      "text/plain": [
       "\u001b[36mpattern\u001b[39m: \u001b[32mRegex\u001b[39m = pur{1,3}\n",
       "\u001b[36mtext\u001b[39m: \u001b[32mString\u001b[39m = \u001b[32m\"pu\"\u001b[39m\n",
       "\u001b[36mres19_2\u001b[39m: \u001b[32mOption\u001b[39m[\u001b[32mString\u001b[39m] = \u001b[32mNone\u001b[39m"
      ]
     },
     "execution_count": 20,
     "metadata": {},
     "output_type": "execute_result"
    }
   ],
   "source": [
    "val pattern = \"pur{1,3}\".r\n",
    "val text = \"pu\"\n",
    "pattern findFirstIn text "
   ]
  },
  {
   "cell_type": "code",
   "execution_count": 21,
   "metadata": {},
   "outputs": [
    {
     "data": {
      "text/plain": [
       "\u001b[36mpattern\u001b[39m: \u001b[32mRegex\u001b[39m = pur{3,}\n",
       "\u001b[36mtext\u001b[39m: \u001b[32mString\u001b[39m = \u001b[32m\"purrrrrrr\"\u001b[39m\n",
       "\u001b[36mres20_2\u001b[39m: \u001b[32mOption\u001b[39m[\u001b[32mString\u001b[39m] = \u001b[33mSome\u001b[39m(\u001b[32m\"purrrrrrr\"\u001b[39m)"
      ]
     },
     "execution_count": 21,
     "metadata": {},
     "output_type": "execute_result"
    }
   ],
   "source": [
    "val pattern = \"pur{3,}\".r\n",
    "val text = \"purrrrrrr\"\n",
    "pattern findFirstIn text "
   ]
  },
  {
   "cell_type": "code",
   "execution_count": 22,
   "metadata": {},
   "outputs": [
    {
     "data": {
      "text/plain": [
       "\u001b[36mpattern\u001b[39m: \u001b[32mRegex\u001b[39m = \\w+\n",
       "\u001b[36mtext\u001b[39m: \u001b[32mString\u001b[39m = \u001b[32m\"\"\u001b[39m\n",
       "\u001b[36mres21_2\u001b[39m: \u001b[32mOption\u001b[39m[\u001b[32mString\u001b[39m] = \u001b[32mNone\u001b[39m"
      ]
     },
     "execution_count": 22,
     "metadata": {},
     "output_type": "execute_result"
    }
   ],
   "source": [
    "val pattern = \"\\\\w+\".r\n",
    "val text = \"\"\n",
    "pattern findFirstIn text "
   ]
  },
  {
   "cell_type": "code",
   "execution_count": 23,
   "metadata": {},
   "outputs": [
    {
     "data": {
      "text/plain": [
       "\u001b[36mpattern\u001b[39m: \u001b[32mRegex\u001b[39m = \\w*\n",
       "\u001b[36mtext\u001b[39m: \u001b[32mString\u001b[39m = \u001b[32m\"\"\u001b[39m\n",
       "\u001b[36mres22_2\u001b[39m: \u001b[32mOption\u001b[39m[\u001b[32mString\u001b[39m] = \u001b[33mSome\u001b[39m(\u001b[32m\"\"\u001b[39m)"
      ]
     },
     "execution_count": 23,
     "metadata": {},
     "output_type": "execute_result"
    }
   ],
   "source": [
    "val pattern = \"\\\\w*\".r\n",
    "val text = \"\"\n",
    "pattern findFirstIn text "
   ]
  },
  {
   "cell_type": "code",
   "execution_count": 24,
   "metadata": {
    "scrolled": true
   },
   "outputs": [
    {
     "data": {
      "text/plain": [
       "\u001b[36mpattern\u001b[39m: \u001b[32mRegex\u001b[39m = \\w*\n",
       "\u001b[36mtext\u001b[39m: \u001b[32mString\u001b[39m = \u001b[32m\"anyAlphanumeric\"\u001b[39m\n",
       "\u001b[36mres23_2\u001b[39m: \u001b[32mOption\u001b[39m[\u001b[32mString\u001b[39m] = \u001b[33mSome\u001b[39m(\u001b[32m\"anyAlphanumeric\"\u001b[39m)"
      ]
     },
     "execution_count": 24,
     "metadata": {},
     "output_type": "execute_result"
    }
   ],
   "source": [
    "val pattern = \"\\\\w*\".r\n",
    "val text = \"anyAlphanumeric\"\n",
    "pattern findFirstIn text "
   ]
  },
  {
   "cell_type": "markdown",
   "metadata": {},
   "source": [
    "-----------------------\n",
    "\n",
    "### Starting and ending\n",
    "\n",
    "#### `^` :   Start of the line\n",
    "\n",
    "> **Note** \n",
    "`^success` match only a line that begins with the word `\"success\"`, but not the line `\"Error: unsuccessful operation`\n",
    "\n",
    "> **Note** \n",
    "It is different from the hat used inside a set of bracket `[^...]` for excluding characters, which can be confusing when reading regular expressions.\n",
    "\n",
    "\n",
    "\n",
    "#### `$` : End of the line\n",
    "\n"
   ]
  },
  {
   "cell_type": "code",
   "execution_count": 25,
   "metadata": {},
   "outputs": [
    {
     "data": {
      "text/plain": [
       "\u001b[36mpattern\u001b[39m: \u001b[32mRegex\u001b[39m = end$\n",
       "\u001b[36mtext\u001b[39m: \u001b[32mString\u001b[39m = \u001b[32m\"The end\"\u001b[39m\n",
       "\u001b[36mres24_2\u001b[39m: \u001b[32mOption\u001b[39m[\u001b[32mString\u001b[39m] = \u001b[33mSome\u001b[39m(\u001b[32m\"end\"\u001b[39m)"
      ]
     },
     "execution_count": 25,
     "metadata": {},
     "output_type": "execute_result"
    }
   ],
   "source": [
    "val pattern = \"end$\".r\n",
    "val text = \"The end\"\n",
    "pattern findFirstIn text "
   ]
  },
  {
   "cell_type": "code",
   "execution_count": 26,
   "metadata": {},
   "outputs": [
    {
     "data": {
      "text/plain": [
       "\u001b[36mpattern\u001b[39m: \u001b[32mRegex\u001b[39m = ^start\n",
       "\u001b[36mtext\u001b[39m: \u001b[32mString\u001b[39m = \u001b[32m\"starting\"\u001b[39m\n",
       "\u001b[36mres25_2\u001b[39m: \u001b[32mOption\u001b[39m[\u001b[32mString\u001b[39m] = \u001b[33mSome\u001b[39m(\u001b[32m\"start\"\u001b[39m)"
      ]
     },
     "execution_count": 26,
     "metadata": {},
     "output_type": "execute_result"
    }
   ],
   "source": [
    "val pattern = \"^start\".r\n",
    "val text = \"starting\"\n",
    "pattern findFirstIn text "
   ]
  },
  {
   "cell_type": "code",
   "execution_count": 27,
   "metadata": {},
   "outputs": [
    {
     "data": {
      "text/plain": [
       "\u001b[36mpattern\u001b[39m: \u001b[32mRegex\u001b[39m = ^start\n",
       "\u001b[36mtext\u001b[39m: \u001b[32mString\u001b[39m = \u001b[32m\"Now start\"\u001b[39m\n",
       "\u001b[36mres26_2\u001b[39m: \u001b[32mOption\u001b[39m[\u001b[32mString\u001b[39m] = \u001b[32mNone\u001b[39m"
      ]
     },
     "execution_count": 27,
     "metadata": {},
     "output_type": "execute_result"
    }
   ],
   "source": [
    "val pattern = \"^start\".r\n",
    "val text = \"Now start\"\n",
    "pattern findFirstIn text "
   ]
  },
  {
   "cell_type": "markdown",
   "metadata": {},
   "source": [
    "------------------\n",
    "\n",
    "### Capture Group\n",
    "\n",
    "Regular expressions allow us not just to match text but also to extract information for further processing. This is done by defining groups of characters and capturing them using the special parentheses `(` and `)` metacharacters. Any subpattern inside a pair of parentheses will be captured as a group.\n",
    "\n",
    "\n",
    "#### `(…)` Capture Group\n",
    "\n",
    "Imagine that you had a command line tool to list all the image files you have in the cloud. You could then use a pattern such as `^(IMG\\d+\\.png)$` to capture and extract the full filename, but if you only wanted to capture the filename without the extension, you could use the pattern `^(IMG\\d+)\\.png$`, which only captures the part before the period.\n",
    "\n",
    "#### `case ... match` Capture Group in Scala\n",
    "\n",
    "\n",
    "```scala\n",
    "val date = raw\"(\\d{4})-(\\d{2})-(\\d{2})\".r\n",
    "```\n",
    "\n",
    "To extract the capturing groups when a Regex is matched, use it as an extractor in a pattern match:\n",
    "\n",
    "```scala\n",
    "\"2004-01-20\" match {\n",
    "  case date(year, month, day) => s\"$year $month $day\"\n",
    "}\n",
    "```\n",
    "\n",
    "To check only whether the Regex matches, ignoring any groups, use a sequence wildcard:\n",
    "\n",
    "```scala\n",
    "\"2004-01-20\" match {\n",
    "  case date(_*) => \"It's a date!\"\n",
    "}\n",
    "```\n",
    "\n",
    "Extracting only the year from a date could also be expressed with a sequence wildcard:\n",
    "\n",
    "```scala\n",
    "\"2004-01-20\" match {\n",
    "  case date(year, _*) => s\"$year\"\n",
    "}\n",
    "```\n",
    "\n",
    "In a pattern match, Regex matches the entire input typically. However, an unanchored Regex finds the pattern anywhere in the input.\n",
    "\n",
    "```scala\n",
    "val embeddedDate = date.unanchored\n",
    "\n",
    "\"Date: 2004-01-20 17:25:18 GMT (10 years, 28 weeks, 5 days, 17 hours and 51 minutes ago)\" match {\n",
    "  case embeddedDate(\"2004\", \"01\", \"20\") => \"A Scala is born.\"\n",
    "}\n",
    "\n",
    "```\n",
    "\n",
    "#### Exercise\n",
    "\n",
    "Capture \n",
    "- `file_record_transcript` in\t`file_record_transcript.pdf` \n",
    "- `file_07241999` in `file_07241999.pdf`\t\n",
    "\n",
    "and skip `testfile_fake.pdf.tmp`\n",
    "\n",
    "**Solution**\n",
    "\n",
    "`^(file_\\S+).pdf$`\n",
    "\n",
    "#### `(a(bc))` Capture Sub-group\n",
    "\n",
    "#### `(.*)` Capture all\n"
   ]
  },
  {
   "cell_type": "code",
   "execution_count": 28,
   "metadata": {},
   "outputs": [
    {
     "name": "stdout",
     "output_type": "stream",
     "text": [
      "file_record_transcript\n"
     ]
    },
    {
     "data": {
      "text/plain": [
       "\u001b[36mpattern\u001b[39m: \u001b[32mRegex\u001b[39m = ^(file_\\S+).pdf$\n",
       "\u001b[36mtext\u001b[39m: \u001b[32mString\u001b[39m = \u001b[32m\"file_record_transcript.pdf\"\u001b[39m\n",
       "\u001b[36mres27_2\u001b[39m: \u001b[32mOption\u001b[39m[\u001b[32mString\u001b[39m] = \u001b[33mSome\u001b[39m(\u001b[32m\"file_record_transcript.pdf\"\u001b[39m)"
      ]
     },
     "execution_count": 28,
     "metadata": {},
     "output_type": "execute_result"
    }
   ],
   "source": [
    "val pattern = \"^(file_\\\\S+).pdf$\".r\n",
    "val text = \"file_record_transcript.pdf\"\n",
    "\n",
    "pattern findFirstIn text \n",
    "\n",
    "text match {\n",
    "  case pattern(file) => println(s\"$file\")\n",
    "}"
   ]
  },
  {
   "cell_type": "code",
   "execution_count": 29,
   "metadata": {},
   "outputs": [
    {
     "data": {
      "text/plain": [
       "\u001b[36mpattern\u001b[39m: \u001b[32mRegex\u001b[39m = ^(file_\\S+).pdf$\n",
       "\u001b[36mtext\u001b[39m: \u001b[32mString\u001b[39m = \u001b[32m\"testfile_fake.pdf.tmp\"\u001b[39m\n",
       "\u001b[36mres28_2\u001b[39m: \u001b[32mOption\u001b[39m[\u001b[32mString\u001b[39m] = \u001b[32mNone\u001b[39m"
      ]
     },
     "execution_count": 29,
     "metadata": {},
     "output_type": "execute_result"
    }
   ],
   "source": [
    "val pattern = \"^(file_\\\\S+).pdf$\".r\n",
    "val text = \"testfile_fake.pdf.tmp\"\n",
    "\n",
    "pattern findFirstIn text "
   ]
  },
  {
   "cell_type": "code",
   "execution_count": 30,
   "metadata": {},
   "outputs": [
    {
     "data": {
      "text/plain": [
       "\u001b[36mdate\u001b[39m: \u001b[32mRegex\u001b[39m = (\\d{4})-(\\d{2})-(\\d{2})\n",
       "\u001b[36membeddedDate\u001b[39m: \u001b[32mscala\u001b[39m.\u001b[32mutil\u001b[39m.\u001b[32mmatching\u001b[39m.\u001b[32mUnanchoredRegex\u001b[39m = (\\d{4})-(\\d{2})-(\\d{2})\n",
       "\u001b[36mres29_2\u001b[39m: \u001b[32mString\u001b[39m = \u001b[32m\"A Scala is born.\"\u001b[39m"
      ]
     },
     "execution_count": 30,
     "metadata": {},
     "output_type": "execute_result"
    }
   ],
   "source": [
    "val date = raw\"(\\d{4})-(\\d{2})-(\\d{2})\".r\n",
    "val embeddedDate = date.unanchored\n",
    "\n",
    "\"Date: 2004-01-20 17:25:18 GMT (10 years, 28 weeks, 5 days, 17 hours and 51 minutes ago)\" match {\n",
    "  case embeddedDate(\"2004\", \"01\", \"20\") => \"A Scala is born.\"\n",
    "}"
   ]
  },
  {
   "cell_type": "markdown",
   "metadata": {},
   "source": [
    "In comparison, we cannot capture the group if we only use the `date`.\n",
    "\n",
    "```scala\n",
    "val date = raw\"(\\d{4})-(\\d{2})-(\\d{2})\".r\n",
    "\n",
    "\"Date: 2004-01-20 17:25:18 GMT (10 years, 28 weeks, 5 days, 17 hours and 51 minutes ago)\" match {\n",
    "  case date(\"2004\", \"01\", \"20\") => \"A Scala is born.\"\n",
    "}\n",
    "\n",
    "```\n",
    "\n",
    "Error msg: \n",
    "\n",
    "```\n",
    "scala.MatchError: \n",
    "Date: 2004-01-20 17:25:18 GMT (10 years, 28 weeks, 5 days, 17 hours and 51 minutes ago) \n",
    "(of class java.lang.String)\n",
    "```"
   ]
  },
  {
   "cell_type": "markdown",
   "metadata": {},
   "source": [
    "-------------------\n",
    "### Optional\n",
    "\n",
    "#### `?`:  match either zero or one of the preceding character or group\n",
    "\n",
    "For example, `ab?c`: match either the strings `\"abc\"` or `\"ac\"` because the b is considered optional.\n",
    "\n",
    "> **Note**\n",
    "The question mark is a special character and you will have to escape it using a slash `\\?` to match a plain question mark character in a string.\n",
    "\n",
    "#### `(foo|bar)`: match `foo` or `bar`\n",
    "\n",
    "For example, `(abc|def)`: match `abc` or `def`\n",
    "\n",
    "#### Exercise\n",
    "\n",
    "Match\t\n",
    "- `1 file found?`\n",
    "- `2 files found?`\n",
    "- `24 files found?`\t\n",
    "\n",
    "Skip `No files found.`\n",
    "\n",
    "**Solution**\n",
    "`\\d+ files? found\\?`\n",
    "\n"
   ]
  },
  {
   "cell_type": "code",
   "execution_count": 31,
   "metadata": {},
   "outputs": [
    {
     "data": {
      "text/plain": [
       "\u001b[36mpattern\u001b[39m: \u001b[32mRegex\u001b[39m = ab?c\n",
       "\u001b[36mtext\u001b[39m: \u001b[32mString\u001b[39m = \u001b[32m\"abc\"\u001b[39m\n",
       "\u001b[36mres30_2\u001b[39m: \u001b[32mOption\u001b[39m[\u001b[32mString\u001b[39m] = \u001b[33mSome\u001b[39m(\u001b[32m\"abc\"\u001b[39m)"
      ]
     },
     "execution_count": 31,
     "metadata": {},
     "output_type": "execute_result"
    }
   ],
   "source": [
    "\n",
    "val pattern = \"ab?c\".r\n",
    "val text = \"abc\"\n",
    "pattern findFirstIn text \n"
   ]
  },
  {
   "cell_type": "markdown",
   "metadata": {},
   "source": [
    "----------------\n",
    "\n",
    "### Capture all\n",
    "\n",
    "#### `.*` would match everything"
   ]
  },
  {
   "cell_type": "code",
   "execution_count": 32,
   "metadata": {},
   "outputs": [
    {
     "data": {
      "text/plain": [
       "\u001b[36mpattern\u001b[39m: \u001b[32mRegex\u001b[39m = .*\n",
       "\u001b[36mtext\u001b[39m: \u001b[32mString\u001b[39m = \u001b[32m\"****** any text 123456 ------------\"\u001b[39m\n",
       "\u001b[36mres31_2\u001b[39m: \u001b[32mOption\u001b[39m[\u001b[32mString\u001b[39m] = \u001b[33mSome\u001b[39m(\u001b[32m\"****** any text 123456 ------------\"\u001b[39m)"
      ]
     },
     "execution_count": 32,
     "metadata": {},
     "output_type": "execute_result"
    }
   ],
   "source": [
    "val pattern = \".*\".r\n",
    "val text = \"****** any text 123456 ------------\"\n",
    "\n",
    "pattern findFirstIn text "
   ]
  },
  {
   "cell_type": "markdown",
   "metadata": {},
   "source": [
    "-----------------------------------------------\n",
    "\n",
    "\n",
    "## Reference\n",
    "\n",
    "1. Regexone.com. 2021. RegexOne - Learn Regular Expressions - Lesson 1: An Introduction, and the ABCs.\n",
    "[online] Available at: [RegexOne - Learn Regular Expressions, 2021](https://regexone.com/lesson/introduction_abcs) [Accessed 5 June 2021].\n",
    "1. Tutorialspoint.com. 2021. Scala - Regular Expressions - Tutorialspoint. [online] Available at: [Scala -\n",
    "Regular Expressions - Tutorialspoint, 2021](https://www.tutorialspoint.com/scala/scala_regular_expressions.htm) [Accessed 5 June 2021]\n",
    "1. Dib, F., 2021. regex101: build, test, and debug regex. [online] regex101. Available at: [Dib, 2021](https://regex101.com/) [Accessed 5 June 2021].\n",
    "1. Scala-lang.org. 2021. Scala Standard Library 2.12.5 - scala.util.matching.Regex. [online] Available at: [Scala Standard Library 2.12.5 - scala.util.matching.Regex, 2021](https://www.scala-lang.org/api/2.12.5/scala/util/matching/Regex.html) [Accessed 7 June 2021]."
   ]
  }
 ],
 "metadata": {
  "kernelspec": {
   "display_name": "Scala 2.12.11",
   "language": "scala",
   "name": "scala_2_12_11"
  },
  "language_info": {
   "codemirror_mode": "text/x-scala",
   "file_extension": ".scala",
   "mimetype": "text/x-scala",
   "name": "scala",
   "nbconvert_exporter": "script",
   "version": "2.12.11"
  }
 },
 "nbformat": 4,
 "nbformat_minor": 4
}
