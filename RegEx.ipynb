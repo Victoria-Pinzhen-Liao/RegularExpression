{
 "cells": [
  {
   "cell_type": "markdown",
   "metadata": {},
   "source": [
    "# Instruction to regular expression \n",
    "\n",
    "by Victoria Liao\n",
    "\n",
    "> **Note**: this tutorial is written in Scala but the patterns can be used in other languages\n",
    "\n",
    "-----------------------------------------------------------\n",
    "\n",
    "### Table of content\n",
    "\n",
    "1. What is regular expression\n",
    "1. Regular expression patterns\n",
    "    - Basic tokens\n",
    "    - Practical problems\n",
    "1. Reference\n",
    "\n",
    "------------------------\n",
    "\n",
    "Downlaod jupter notebook to markdown / pdf / html\n",
    "\n",
    "```\n",
    "jupyter nbconvert --to pdf your_jupyter_notebook.ipynb\n",
    "jupyter nbconvert --to markdown your_jupyter_notebook.ipynb\n",
    "jupyter nbconvert --to html your_jupyter_notebook.ipynb\n",
    "```"
   ]
  },
  {
   "cell_type": "markdown",
   "metadata": {},
   "source": [
    "## 1. What is regular expression?\n",
    "\n",
    "Everything in a string is essentially a character, and we are writing patterns to match a specific string. This\n",
    "pattern is called regular expression. \n",
    "\n",
    "Regular expressions are useful in extracting information from text.\n",
    "\n",
    "---------------------------------------"
   ]
  },
  {
   "cell_type": "markdown",
   "metadata": {},
   "source": [
    "----------------------\n",
    "## 2. Regular expression patterns\n",
    "\n",
    "To make it easier, I always use `#findFirstIn` in the section.\n",
    "\n",
    "### 2.1 Basic tokens\n",
    "\n",
    "#### Exact match \n",
    "1. \"abc\": Match a substring that is the same as the pattern\n",
    "--------------------\n",
    "\n",
    "#### Digit\n",
    "1. \\d: Any digit from 0 to 9\n",
    "1. \\D: Any Non-digit character\n",
    "--------------------\n",
    "\n",
    "#### Wildcard\n",
    "1. Dot \".\": the wildcard\n",
    "\n",
    "--------------------\n",
    "\n",
    "#### Match character\n",
    "1. [abc]: Match specific characters\n",
    "1. [^abc]: Exclude specific characters\n",
    "\n",
    "--------------------\n",
    "\n",
    "#### Range\n",
    "1. [a-z]: Match a char within the range\n",
    "1. [^a-z]: Exclude a char within the range\n",
    "1. [a-z0-9]: Match a char within multiple ranges\n",
    "\n",
    "--------------------\n",
    "\n",
    "#### Alphanumeric\n",
    "\n",
    "1. \"\\w\": Any Alphanumeric character\n",
    "1. \"\\W\": Any Non-alphanumeric character\n",
    "----------------------\n",
    "\n",
    "#### Repetitions \n",
    "\n",
    "1. {m}:\tm repetitions\n",
    "1. {m,n}: m to n repetitions\n",
    "1. {m,}: m to infinite repetitions\n",
    "1. Kleene Star * : 0 or more repetitions\n",
    "1. Kleene Plus + :\t1 or more repetitions\n"
   ]
  },
  {
   "cell_type": "code",
   "execution_count": 55,
   "metadata": {},
   "outputs": [
    {
     "data": {
      "text/plain": [
       "\u001b[32mimport \u001b[39m\u001b[36mscala.util.matching.Regex\u001b[39m"
      ]
     },
     "execution_count": 55,
     "metadata": {},
     "output_type": "execute_result"
    }
   ],
   "source": [
    "//  Scala dependency \n",
    "import scala.util.matching.Regex"
   ]
  },
  {
   "cell_type": "markdown",
   "metadata": {},
   "source": [
    "### Exact match \n",
    "#### \"abc\": Match a substring that is the same as the pattern\n",
    "\n",
    "\n",
    "`\"foo 1\"` match `\"foo 1\"` in `\"foo 1 fooo\"`\n"
   ]
  },
  {
   "cell_type": "code",
   "execution_count": 56,
   "metadata": {},
   "outputs": [
    {
     "data": {
      "text/plain": [
       "\u001b[36mpattern\u001b[39m: \u001b[32mRegex\u001b[39m = foo 1\n",
       "\u001b[36mtext\u001b[39m: \u001b[32mString\u001b[39m = \u001b[32m\"foo 1 fooo\"\u001b[39m\n",
       "\u001b[36mres55_2\u001b[39m: \u001b[32mOption\u001b[39m[\u001b[32mString\u001b[39m] = \u001b[33mSome\u001b[39m(\u001b[32m\"foo 1\"\u001b[39m)"
      ]
     },
     "execution_count": 56,
     "metadata": {},
     "output_type": "execute_result"
    }
   ],
   "source": [
    "val pattern = \"foo 1\".r\n",
    "val text = \"foo 1 fooo\"\n",
    "pattern findFirstIn text "
   ]
  },
  {
   "cell_type": "markdown",
   "metadata": {},
   "source": [
    "-----------------------------------\n",
    "\n",
    "### Digit\n",
    "\n",
    "#### \\d: Any digit from 0 to 9 \n",
    "\n",
    "The preceding slash `\\` distinguishes it from the simple d character and indicates that it is a metacharacter.\n",
    "\n",
    "> Take away: need to use double slash in Scala string for \\d - `\"\\\\d\".r`\n",
    "\n",
    "`\"\\\\d\"`: \n",
    "\n",
    "- match `1` in `1234`  \n",
    "- match `2` in `2 foo`\n",
    "\n",
    "-------------------------\n",
    "\n",
    "### \\D: Any Non-digit character\n",
    "\n",
    " `\"\\\\D\"` :\n",
    " - match `\" \"` (space) in `1234 a` \n",
    " - match `a` in `a 2 foo`\n"
   ]
  },
  {
   "cell_type": "code",
   "execution_count": 57,
   "metadata": {},
   "outputs": [
    {
     "data": {
      "text/plain": [
       "\u001b[36mpattern\u001b[39m: \u001b[32mRegex\u001b[39m = \\d\n",
       "\u001b[36mtext\u001b[39m: \u001b[32mString\u001b[39m = \u001b[32m\"1234\"\u001b[39m\n",
       "\u001b[36mres56_2\u001b[39m: \u001b[32mOption\u001b[39m[\u001b[32mString\u001b[39m] = \u001b[33mSome\u001b[39m(\u001b[32m\"1\"\u001b[39m)"
      ]
     },
     "execution_count": 57,
     "metadata": {},
     "output_type": "execute_result"
    }
   ],
   "source": [
    "val pattern = \"\\\\d\".r\n",
    "val text = \"1234\"\n",
    "pattern findFirstIn text "
   ]
  },
  {
   "cell_type": "code",
   "execution_count": 58,
   "metadata": {},
   "outputs": [
    {
     "data": {
      "text/plain": [
       "\u001b[36mpattern\u001b[39m: \u001b[32mRegex\u001b[39m = \\d\n",
       "\u001b[36mtext\u001b[39m: \u001b[32mString\u001b[39m = \u001b[32m\"2 foo\"\u001b[39m\n",
       "\u001b[36mres57_2\u001b[39m: \u001b[32mOption\u001b[39m[\u001b[32mString\u001b[39m] = \u001b[33mSome\u001b[39m(\u001b[32m\"2\"\u001b[39m)"
      ]
     },
     "execution_count": 58,
     "metadata": {},
     "output_type": "execute_result"
    }
   ],
   "source": [
    "val pattern = \"\\\\d\".r\n",
    "val text = \"2 foo\"\n",
    "pattern findFirstIn text "
   ]
  },
  {
   "cell_type": "code",
   "execution_count": 59,
   "metadata": {},
   "outputs": [
    {
     "data": {
      "text/plain": [
       "\u001b[36mpattern\u001b[39m: \u001b[32mRegex\u001b[39m = \\D\n",
       "\u001b[36mtext\u001b[39m: \u001b[32mString\u001b[39m = \u001b[32m\"1234 a\"\u001b[39m\n",
       "\u001b[36mres58_2\u001b[39m: \u001b[32mOption\u001b[39m[\u001b[32mString\u001b[39m] = \u001b[33mSome\u001b[39m(\u001b[32m\" \"\u001b[39m)"
      ]
     },
     "execution_count": 59,
     "metadata": {},
     "output_type": "execute_result"
    }
   ],
   "source": [
    "val pattern = \"\\\\D\".r\n",
    "val text = \"1234 a\"\n",
    "pattern findFirstIn text "
   ]
  },
  {
   "cell_type": "code",
   "execution_count": 60,
   "metadata": {},
   "outputs": [
    {
     "data": {
      "text/plain": [
       "\u001b[36mpattern\u001b[39m: \u001b[32mRegex\u001b[39m = \\D\n",
       "\u001b[36mtext\u001b[39m: \u001b[32mString\u001b[39m = \u001b[32m\"a 2 foo\"\u001b[39m\n",
       "\u001b[36mres59_2\u001b[39m: \u001b[32mOption\u001b[39m[\u001b[32mString\u001b[39m] = \u001b[33mSome\u001b[39m(\u001b[32m\"a\"\u001b[39m)"
      ]
     },
     "execution_count": 60,
     "metadata": {},
     "output_type": "execute_result"
    }
   ],
   "source": [
    "val pattern = \"\\\\D\".r\n",
    "val text = \"a 2 foo\"\n",
    "pattern findFirstIn text "
   ]
  },
  {
   "cell_type": "markdown",
   "metadata": {},
   "source": [
    "---------------------\n",
    "\n",
    "### Wildcard\n",
    "\n",
    "##### Dot \".\": the wildcard\n",
    "\n",
    "A wildcard is a card that can represent any card in the deck in poker games. Similarly, . (dot)  can match any single character (letter, digit, whitespace, everything). \n",
    "\n",
    "\n",
    "**Note**: \n",
    "```\n",
    ".  is the wildcard\n",
    "\\\\. is the dot symbol / period\n",
    "```\n",
    "-----------\n",
    "\n",
    "`...\\\\.`: match \n",
    "- `\"cat.\"`\n",
    "- `\"896.\"`\n",
    "- `\"?=+.\"`\t\n",
    "\n",
    "and skip\t\n",
    "- `abc1`"
   ]
  },
  {
   "cell_type": "code",
   "execution_count": 61,
   "metadata": {},
   "outputs": [
    {
     "data": {
      "text/plain": [
       "\u001b[36mpattern\u001b[39m: \u001b[32mRegex\u001b[39m = ...\\.\n",
       "\u001b[36mtext\u001b[39m: \u001b[32mString\u001b[39m = \u001b[32m\"cat.\"\u001b[39m\n",
       "\u001b[36mres60_2\u001b[39m: \u001b[32mOption\u001b[39m[\u001b[32mString\u001b[39m] = \u001b[33mSome\u001b[39m(\u001b[32m\"cat.\"\u001b[39m)"
      ]
     },
     "execution_count": 61,
     "metadata": {},
     "output_type": "execute_result"
    }
   ],
   "source": [
    "val pattern = \"...\\\\.\".r\n",
    "val text = \"cat.\"\n",
    "pattern findFirstIn text "
   ]
  },
  {
   "cell_type": "code",
   "execution_count": 62,
   "metadata": {},
   "outputs": [
    {
     "data": {
      "text/plain": [
       "\u001b[36mpattern\u001b[39m: \u001b[32mRegex\u001b[39m = ...\\.\n",
       "\u001b[36mtext\u001b[39m: \u001b[32mString\u001b[39m = \u001b[32m\"abc1\"\u001b[39m\n",
       "\u001b[36mres61_2\u001b[39m: \u001b[32mOption\u001b[39m[\u001b[32mString\u001b[39m] = \u001b[32mNone\u001b[39m"
      ]
     },
     "execution_count": 62,
     "metadata": {},
     "output_type": "execute_result"
    }
   ],
   "source": [
    "val pattern = \"...\\\\.\".r\n",
    "val text = \"abc1\"\n",
    "pattern findFirstIn text "
   ]
  },
  {
   "cell_type": "markdown",
   "metadata": {},
   "source": [
    "### Match character\n",
    "\n",
    "#### [abc]: Match specific characters\n",
    "\n",
    "Defining the specific characters you want to match inside square brackets. \n",
    "\n",
    "For example, the pattern `[abc]` will only match a single `a`, `b`, or `c` letter and nothing else.\n",
    "\n",
    "-----------\n",
    "\n",
    "`[cmf]an`: match \n",
    "- `\"can\"`\n",
    "- `\"man\"`\n",
    "- `\"fan\"`\t\n",
    "\n",
    "and skip\t\n",
    "- `dan`\n",
    "- `ran`\n",
    "- `pan`\n",
    "\n",
    "-----------\n",
    "\n",
    "#### [^abc]: Exclude specific characters\n",
    "\n",
    "We exclude specific characters by using the square brackets and the `^` (hat). \n",
    "For example, the pattern `[^abc]` will match any single character except for the letters `a`, `b`, or `c`.\n",
    "\n",
    "-----------\n",
    "\n",
    " `[^cmf]an`: match \n",
    "- `dan`\n",
    "- `ran`\n",
    "- `pan`\n",
    "\n",
    "and skip\t\n",
    "- `\"can\"`\n",
    "- `\"man\"`\n",
    "- `\"fan\"`\t\n",
    "\n"
   ]
  },
  {
   "cell_type": "code",
   "execution_count": 63,
   "metadata": {},
   "outputs": [
    {
     "data": {
      "text/plain": [
       "\u001b[36mpattern\u001b[39m: \u001b[32mRegex\u001b[39m = [cmf]an\n",
       "\u001b[36mtext\u001b[39m: \u001b[32mString\u001b[39m = \u001b[32m\"can\"\u001b[39m\n",
       "\u001b[36mres62_2\u001b[39m: \u001b[32mOption\u001b[39m[\u001b[32mString\u001b[39m] = \u001b[33mSome\u001b[39m(\u001b[32m\"can\"\u001b[39m)"
      ]
     },
     "execution_count": 63,
     "metadata": {},
     "output_type": "execute_result"
    }
   ],
   "source": [
    "val pattern = \"[cmf]an\".r\n",
    "val text = \"can\"\n",
    "pattern findFirstIn text "
   ]
  },
  {
   "cell_type": "code",
   "execution_count": 64,
   "metadata": {},
   "outputs": [
    {
     "data": {
      "text/plain": [
       "\u001b[36mpattern\u001b[39m: \u001b[32mRegex\u001b[39m = [cmf]an\n",
       "\u001b[36mtext\u001b[39m: \u001b[32mString\u001b[39m = \u001b[32m\"dan\"\u001b[39m\n",
       "\u001b[36mres63_2\u001b[39m: \u001b[32mOption\u001b[39m[\u001b[32mString\u001b[39m] = \u001b[32mNone\u001b[39m"
      ]
     },
     "execution_count": 64,
     "metadata": {},
     "output_type": "execute_result"
    }
   ],
   "source": [
    "val pattern = \"[cmf]an\".r\n",
    "val text = \"dan\"\n",
    "pattern findFirstIn text "
   ]
  },
  {
   "cell_type": "code",
   "execution_count": 65,
   "metadata": {},
   "outputs": [
    {
     "data": {
      "text/plain": [
       "\u001b[36mpattern\u001b[39m: \u001b[32mRegex\u001b[39m = [^cmf]an\n",
       "\u001b[36mtext\u001b[39m: \u001b[32mString\u001b[39m = \u001b[32m\"dan\"\u001b[39m\n",
       "\u001b[36mres64_2\u001b[39m: \u001b[32mOption\u001b[39m[\u001b[32mString\u001b[39m] = \u001b[33mSome\u001b[39m(\u001b[32m\"dan\"\u001b[39m)"
      ]
     },
     "execution_count": 65,
     "metadata": {},
     "output_type": "execute_result"
    }
   ],
   "source": [
    "val pattern = \"[^cmf]an\".r\n",
    "val text = \"dan\"\n",
    "pattern findFirstIn text "
   ]
  },
  {
   "cell_type": "code",
   "execution_count": 66,
   "metadata": {},
   "outputs": [
    {
     "data": {
      "text/plain": [
       "\u001b[36mpattern\u001b[39m: \u001b[32mRegex\u001b[39m = [^cmf]an\n",
       "\u001b[36mtext\u001b[39m: \u001b[32mString\u001b[39m = \u001b[32m\"can\"\u001b[39m\n",
       "\u001b[36mres65_2\u001b[39m: \u001b[32mOption\u001b[39m[\u001b[32mString\u001b[39m] = \u001b[32mNone\u001b[39m"
      ]
     },
     "execution_count": 66,
     "metadata": {},
     "output_type": "execute_result"
    }
   ],
   "source": [
    "val pattern = \"[^cmf]an\".r\n",
    "val text = \"can\"\n",
    "pattern findFirstIn text "
   ]
  },
  {
   "cell_type": "markdown",
   "metadata": {},
   "source": [
    "-------------------------------------------\n",
    "\n",
    "### Range\n",
    "\n",
    "#### [a-z]: Match a char within the range\n",
    "\n",
    "Match a character in list of sequential characters by using the dash to indicate a character range. \n",
    "\n",
    "`[0-6]`: match any single digit character from `0` to `6` \n",
    "\n",
    "-------------------------------------------\n",
    "\n",
    "#### [^a-z]: Exclude a char within the range\n",
    "\n",
    "`[^n-p]`: match any single character except for letters `n` to `p`\n",
    "\n",
    "-------------------------------------------\n",
    "\n",
    "#### [a-z0-9]: Match a char within multiple ranges\n",
    "Multiple character ranges can also be used in the same set of brackets \n",
    "\n",
    "`[A-Z0-9]`:  match any single digit character from `A-Z` or `0` to `9`  \n",
    "\n",
    "-------------------------------------------"
   ]
  },
  {
   "cell_type": "code",
   "execution_count": 67,
   "metadata": {},
   "outputs": [
    {
     "data": {
      "text/plain": [
       "\u001b[36mpattern\u001b[39m: \u001b[32mRegex\u001b[39m = [A-C][n-p][a-c]\n",
       "\u001b[36mtext\u001b[39m: \u001b[32mString\u001b[39m = \u001b[32m\"Ana\"\u001b[39m\n",
       "\u001b[36mres66_2\u001b[39m: \u001b[32mOption\u001b[39m[\u001b[32mString\u001b[39m] = \u001b[33mSome\u001b[39m(\u001b[32m\"Ana\"\u001b[39m)"
      ]
     },
     "execution_count": 67,
     "metadata": {},
     "output_type": "execute_result"
    }
   ],
   "source": [
    "val pattern = \"[A-C][n-p][a-c]\".r\n",
    "val text = \"Ana\"\n",
    "pattern findFirstIn text "
   ]
  },
  {
   "cell_type": "code",
   "execution_count": 68,
   "metadata": {},
   "outputs": [
    {
     "data": {
      "text/plain": [
       "\u001b[36mpattern\u001b[39m: \u001b[32mRegex\u001b[39m = [A-C][n-p][a-c]\n",
       "\u001b[36mtext\u001b[39m: \u001b[32mString\u001b[39m = \u001b[32m\"aax\"\u001b[39m\n",
       "\u001b[36mres67_2\u001b[39m: \u001b[32mOption\u001b[39m[\u001b[32mString\u001b[39m] = \u001b[32mNone\u001b[39m"
      ]
     },
     "execution_count": 68,
     "metadata": {},
     "output_type": "execute_result"
    }
   ],
   "source": [
    "val pattern = \"[A-C][n-p][a-c]\".r\n",
    "val text = \"aax\"\n",
    "pattern findFirstIn text "
   ]
  },
  {
   "cell_type": "code",
   "execution_count": 69,
   "metadata": {},
   "outputs": [
    {
     "data": {
      "text/plain": [
       "\u001b[36mpattern\u001b[39m: \u001b[32mRegex\u001b[39m = [A-C0-9][A-C0-9]\n",
       "\u001b[36mtext\u001b[39m: \u001b[32mString\u001b[39m = \u001b[32m\"A0x\"\u001b[39m\n",
       "\u001b[36mres68_2\u001b[39m: \u001b[32mOption\u001b[39m[\u001b[32mString\u001b[39m] = \u001b[33mSome\u001b[39m(\u001b[32m\"A0\"\u001b[39m)"
      ]
     },
     "execution_count": 69,
     "metadata": {},
     "output_type": "execute_result"
    }
   ],
   "source": [
    "val pattern = \"[A-C0-9][A-C0-9]\".r\n",
    "val text = \"A0x\"\n",
    "pattern findFirstIn text "
   ]
  },
  {
   "cell_type": "markdown",
   "metadata": {},
   "source": [
    "-----------------------------\n",
    "\n",
    "### Alphanumeric\n",
    "\n",
    "#### \"\\w\":\tAny Alphanumeric character\n",
    "\n",
    "Equivalent to the character range `[A-Za-z0-9_]`\n",
    "\n",
    " `\\\\w`: match \n",
    "- `A` in `Ana`\t\n",
    "- `0` in `*012`\n",
    "\n",
    "and skip `\"***\"`\n",
    "\n",
    "-------------------------\n",
    "\n",
    "#### \"\\W\":\tAny Non-alphanumeric character\n",
    "\n",
    "`\\\\W`: match  `*` in `\"***\"`\n",
    "\n",
    "and skip \n",
    "- `Ana`\t\n",
    "- `0123 Bob`\n"
   ]
  },
  {
   "cell_type": "code",
   "execution_count": 70,
   "metadata": {},
   "outputs": [
    {
     "data": {
      "text/plain": [
       "\u001b[36mpattern\u001b[39m: \u001b[32mRegex\u001b[39m = \\w\n",
       "\u001b[36mtext\u001b[39m: \u001b[32mString\u001b[39m = \u001b[32m\"*012\"\u001b[39m\n",
       "\u001b[36mres69_2\u001b[39m: \u001b[32mOption\u001b[39m[\u001b[32mString\u001b[39m] = \u001b[33mSome\u001b[39m(\u001b[32m\"0\"\u001b[39m)"
      ]
     },
     "execution_count": 70,
     "metadata": {},
     "output_type": "execute_result"
    }
   ],
   "source": [
    "val pattern = \"\\\\w\".r\n",
    "val text = \"*012\"\n",
    "pattern findFirstIn text "
   ]
  },
  {
   "cell_type": "code",
   "execution_count": 71,
   "metadata": {},
   "outputs": [
    {
     "data": {
      "text/plain": [
       "\u001b[36mpattern\u001b[39m: \u001b[32mRegex\u001b[39m = \\w\n",
       "\u001b[36mtext\u001b[39m: \u001b[32mString\u001b[39m = \u001b[32m\"***\"\u001b[39m\n",
       "\u001b[36mres70_2\u001b[39m: \u001b[32mOption\u001b[39m[\u001b[32mString\u001b[39m] = \u001b[32mNone\u001b[39m"
      ]
     },
     "execution_count": 71,
     "metadata": {},
     "output_type": "execute_result"
    }
   ],
   "source": [
    "val pattern = \"\\\\w\".r\n",
    "val text = \"***\"\n",
    "pattern findFirstIn text "
   ]
  },
  {
   "cell_type": "code",
   "execution_count": 72,
   "metadata": {},
   "outputs": [
    {
     "data": {
      "text/plain": [
       "\u001b[36mpattern\u001b[39m: \u001b[32mRegex\u001b[39m = \\W\n",
       "\u001b[36mtext\u001b[39m: \u001b[32mString\u001b[39m = \u001b[32m\"***\"\u001b[39m\n",
       "\u001b[36mres71_2\u001b[39m: \u001b[32mOption\u001b[39m[\u001b[32mString\u001b[39m] = \u001b[33mSome\u001b[39m(\u001b[32m\"*\"\u001b[39m)"
      ]
     },
     "execution_count": 72,
     "metadata": {},
     "output_type": "execute_result"
    }
   ],
   "source": [
    "val pattern = \"\\\\W\".r\n",
    "val text = \"***\"\n",
    "pattern findFirstIn text "
   ]
  },
  {
   "cell_type": "code",
   "execution_count": 73,
   "metadata": {},
   "outputs": [
    {
     "data": {
      "text/plain": [
       "\u001b[36mpattern\u001b[39m: \u001b[32mRegex\u001b[39m = \\W\n",
       "\u001b[36mtext\u001b[39m: \u001b[32mString\u001b[39m = \u001b[32m\"Ana\"\u001b[39m\n",
       "\u001b[36mres72_2\u001b[39m: \u001b[32mOption\u001b[39m[\u001b[32mString\u001b[39m] = \u001b[32mNone\u001b[39m"
      ]
     },
     "execution_count": 73,
     "metadata": {},
     "output_type": "execute_result"
    }
   ],
   "source": [
    "val pattern = \"\\\\W\".r\n",
    "val text = \"Ana\"\n",
    "pattern findFirstIn text "
   ]
  },
  {
   "cell_type": "markdown",
   "metadata": {},
   "source": [
    "----------------------------\n",
    "\n",
    "### Repetitions\n",
    "\n",
    "#### {m}:\tm repetitions\n",
    "\n",
    "`B{3}`:  match the `B` character exactly three times\n",
    "\n",
    "----------------------------\n",
    "\n",
    "#### {m,n}: m to n repetitions\n",
    "\n",
    "`B{1,3}`: match the `B` character for 1-3 times\n",
    "\n",
    "----------------------------\n",
    "\n",
    "#### {m,}: m to infinite repetitions\n",
    "\n",
    "`B{3,}`:  match the `B` character for at least 3 times\n",
    "\n",
    "----------------------------\n",
    "\n",
    "> **Note**: {,m} is Illegal\n",
    "\n",
    "----------------------------\n",
    "\n",
    "#### Kleene Star * : 0 or more repetitions\n",
    "\n",
    "`\\d*`: match any number of digits\n",
    "\n",
    "----------------------------\n",
    "\n",
    "#### Kleene Plus + :\t1 or more repetitions\n",
    "\n",
    "`\\d+` match any number of digits with at least one digit.\n",
    "\n",
    "----------------------------\n",
    "\n",
    "#### Task: \n",
    "Match: `aaaabcc`\t,`aabbbbc`, `aacc`\n",
    "Skip: `a`\n",
    "\n",
    "#### Solutions\n",
    "\n",
    "- `a\\w+` \n",
    "- `a{2}[abc]*`\n",
    "- `aa+b*c+` \n",
    "- `a{2,4}b{0,4}c{1,2}`\n",
    "\n",
    "----------------------------\n",
    "\n"
   ]
  },
  {
   "cell_type": "code",
   "execution_count": 77,
   "metadata": {},
   "outputs": [
    {
     "data": {
      "text/plain": [
       "\u001b[36mpattern\u001b[39m: \u001b[32mRegex\u001b[39m = pur{3}\n",
       "\u001b[36mtext\u001b[39m: \u001b[32mString\u001b[39m = \u001b[32m\"purrrrr\"\u001b[39m\n",
       "\u001b[36mres76_2\u001b[39m: \u001b[32mOption\u001b[39m[\u001b[32mString\u001b[39m] = \u001b[33mSome\u001b[39m(\u001b[32m\"purrr\"\u001b[39m)"
      ]
     },
     "execution_count": 77,
     "metadata": {},
     "output_type": "execute_result"
    }
   ],
   "source": [
    "val pattern = \"pur{3}\".r\n",
    "val text = \"purrrrr\"\n",
    "pattern findFirstIn text "
   ]
  },
  {
   "cell_type": "code",
   "execution_count": 78,
   "metadata": {},
   "outputs": [
    {
     "data": {
      "text/plain": [
       "\u001b[36mpattern\u001b[39m: \u001b[32mRegex\u001b[39m = pur{1,3}\n",
       "\u001b[36mtext\u001b[39m: \u001b[32mString\u001b[39m = \u001b[32m\"purrr\"\u001b[39m\n",
       "\u001b[36mres77_2\u001b[39m: \u001b[32mOption\u001b[39m[\u001b[32mString\u001b[39m] = \u001b[33mSome\u001b[39m(\u001b[32m\"purrr\"\u001b[39m)"
      ]
     },
     "execution_count": 78,
     "metadata": {},
     "output_type": "execute_result"
    }
   ],
   "source": [
    "val pattern = \"pur{1,3}\".r\n",
    "val text = \"purrr\"\n",
    "pattern findFirstIn text "
   ]
  },
  {
   "cell_type": "code",
   "execution_count": 79,
   "metadata": {},
   "outputs": [
    {
     "data": {
      "text/plain": [
       "\u001b[36mpattern\u001b[39m: \u001b[32mRegex\u001b[39m = pur{1,3}\n",
       "\u001b[36mtext\u001b[39m: \u001b[32mString\u001b[39m = \u001b[32m\"pu\"\u001b[39m\n",
       "\u001b[36mres78_2\u001b[39m: \u001b[32mOption\u001b[39m[\u001b[32mString\u001b[39m] = \u001b[32mNone\u001b[39m"
      ]
     },
     "execution_count": 79,
     "metadata": {},
     "output_type": "execute_result"
    }
   ],
   "source": [
    "val pattern = \"pur{1,3}\".r\n",
    "val text = \"pu\"\n",
    "pattern findFirstIn text "
   ]
  },
  {
   "cell_type": "code",
   "execution_count": 82,
   "metadata": {},
   "outputs": [
    {
     "data": {
      "text/plain": [
       "\u001b[36mpattern\u001b[39m: \u001b[32mRegex\u001b[39m = pur{3,}\n",
       "\u001b[36mtext\u001b[39m: \u001b[32mString\u001b[39m = \u001b[32m\"purrrrrrr\"\u001b[39m\n",
       "\u001b[36mres81_2\u001b[39m: \u001b[32mOption\u001b[39m[\u001b[32mString\u001b[39m] = \u001b[33mSome\u001b[39m(\u001b[32m\"purrrrrrr\"\u001b[39m)"
      ]
     },
     "execution_count": 82,
     "metadata": {},
     "output_type": "execute_result"
    }
   ],
   "source": [
    "val pattern = \"pur{3,}\".r\n",
    "val text = \"purrrrrrr\"\n",
    "pattern findFirstIn text "
   ]
  },
  {
   "cell_type": "code",
   "execution_count": 84,
   "metadata": {},
   "outputs": [
    {
     "ename": "",
     "evalue": "",
     "output_type": "error",
     "traceback": [
      "\u001b[31mjava.util.regex.PatternSyntaxException: Illegal repetition near index 2\npur{,3}\n  ^\u001b[39m\n  java.util.regex.Pattern.error(\u001b[32mPattern.java\u001b[39m:\u001b[32m2027\u001b[39m)\n  java.util.regex.Pattern.closure(\u001b[32mPattern.java\u001b[39m:\u001b[32m3320\u001b[39m)\n  java.util.regex.Pattern.sequence(\u001b[32mPattern.java\u001b[39m:\u001b[32m2213\u001b[39m)\n  java.util.regex.Pattern.expr(\u001b[32mPattern.java\u001b[39m:\u001b[32m2068\u001b[39m)\n  java.util.regex.Pattern.compile(\u001b[32mPattern.java\u001b[39m:\u001b[32m1782\u001b[39m)\n  java.util.regex.Pattern.<init>(\u001b[32mPattern.java\u001b[39m:\u001b[32m1428\u001b[39m)\n  java.util.regex.Pattern.compile(\u001b[32mPattern.java\u001b[39m:\u001b[32m1068\u001b[39m)\n  scala.util.matching.Regex.<init>(\u001b[32mRegex.scala\u001b[39m:\u001b[32m226\u001b[39m)\n  scala.collection.immutable.StringLike.r(\u001b[32mStringLike.scala\u001b[39m:\u001b[32m284\u001b[39m)\n  scala.collection.immutable.StringLike.r$(\u001b[32mStringLike.scala\u001b[39m:\u001b[32m284\u001b[39m)\n  scala.collection.immutable.StringOps.r(\u001b[32mStringOps.scala\u001b[39m:\u001b[32m33\u001b[39m)\n  scala.collection.immutable.StringLike.r(\u001b[32mStringLike.scala\u001b[39m:\u001b[32m273\u001b[39m)\n  scala.collection.immutable.StringLike.r$(\u001b[32mStringLike.scala\u001b[39m:\u001b[32m273\u001b[39m)\n  scala.collection.immutable.StringOps.r(\u001b[32mStringOps.scala\u001b[39m:\u001b[32m33\u001b[39m)\n  ammonite.$sess.cmd83$Helper.<init>(\u001b[32mcmd83.sc\u001b[39m:\u001b[32m1\u001b[39m)\n  ammonite.$sess.cmd83$.<init>(\u001b[32mcmd83.sc\u001b[39m:\u001b[32m7\u001b[39m)\n  ammonite.$sess.cmd83$.<clinit>(\u001b[32mcmd83.sc\u001b[39m:\u001b[32m-1\u001b[39m)"
     ]
    }
   ],
   "source": [
    "// Note: {,m} is Illegal\n",
    "\n",
    "val pattern = \"pur{,3}\".r\n",
    "val text = \"purrrrrrr\"\n",
    "pattern findFirstIn text "
   ]
  },
  {
   "cell_type": "code",
   "execution_count": 86,
   "metadata": {},
   "outputs": [
    {
     "data": {
      "text/plain": [
       "\u001b[36mpattern\u001b[39m: \u001b[32mRegex\u001b[39m = \\w+\n",
       "\u001b[36mtext\u001b[39m: \u001b[32mString\u001b[39m = \u001b[32m\"\"\u001b[39m\n",
       "\u001b[36mres85_2\u001b[39m: \u001b[32mOption\u001b[39m[\u001b[32mString\u001b[39m] = \u001b[32mNone\u001b[39m"
      ]
     },
     "execution_count": 86,
     "metadata": {},
     "output_type": "execute_result"
    }
   ],
   "source": [
    "val pattern = \"\\\\w+\".r\n",
    "val text = \"\"\n",
    "pattern findFirstIn text "
   ]
  },
  {
   "cell_type": "code",
   "execution_count": 90,
   "metadata": {},
   "outputs": [
    {
     "data": {
      "text/plain": [
       "\u001b[36mpattern\u001b[39m: \u001b[32mRegex\u001b[39m = \\w*\n",
       "\u001b[36mtext\u001b[39m: \u001b[32mString\u001b[39m = \u001b[32m\"\"\u001b[39m\n",
       "\u001b[36mres89_2\u001b[39m: \u001b[32mOption\u001b[39m[\u001b[32mString\u001b[39m] = \u001b[33mSome\u001b[39m(\u001b[32m\"\"\u001b[39m)"
      ]
     },
     "execution_count": 90,
     "metadata": {},
     "output_type": "execute_result"
    }
   ],
   "source": [
    "val pattern = \"\\\\w*\".r\n",
    "val text = \"\"\n",
    "pattern findFirstIn text "
   ]
  },
  {
   "cell_type": "code",
   "execution_count": 89,
   "metadata": {},
   "outputs": [
    {
     "data": {
      "text/plain": [
       "\u001b[36mpattern\u001b[39m: \u001b[32mRegex\u001b[39m = \\w*\n",
       "\u001b[36mtext\u001b[39m: \u001b[32mString\u001b[39m = \u001b[32m\"anyAlphanumeric\"\u001b[39m\n",
       "\u001b[36mres88_2\u001b[39m: \u001b[32mOption\u001b[39m[\u001b[32mString\u001b[39m] = \u001b[33mSome\u001b[39m(\u001b[32m\"anyAlphanumeric\"\u001b[39m)"
      ]
     },
     "execution_count": 89,
     "metadata": {},
     "output_type": "execute_result"
    }
   ],
   "source": [
    "val pattern = \"\\\\w*\".r\n",
    "val text = \"anyAlphanumeric\"\n",
    "pattern findFirstIn text "
   ]
  },
  {
   "cell_type": "markdown",
   "metadata": {},
   "source": [
    "# Reference\n",
    "\n",
    "1. Regexone.com. 2021. RegexOne - Learn Regular Expressions - Lesson 1: An Introduction, and the ABCs.\n",
    "[online] Available at: [RegexOne - Learn Regular Expressions, 2021](https://regexone.com/lesson/introduction_abcs) [Accessed 5 June 2021].\n",
    "1. Tutorialspoint.com. 2021. Scala - Regular Expressions - Tutorialspoint. [online] Available at: [Scala -\n",
    "Regular Expressions - Tutorialspoint, 2021](https://www.tutorialspoint.com/scala/scala_regular_expressions.htm) [Accessed 5 June 2021]\n",
    "1. Dib, F., 2021. regex101: build, test, and debug regex. [online] regex101. Available at: [Dib, 2021](https://regex101.com/) [Accessed 5 June 2021]."
   ]
  }
 ],
 "metadata": {
  "kernelspec": {
   "display_name": "Scala 2.12.11",
   "language": "scala",
   "name": "scala_2_12_11"
  },
  "language_info": {
   "codemirror_mode": "text/x-scala",
   "file_extension": ".scala",
   "mimetype": "text/x-scala",
   "name": "scala",
   "nbconvert_exporter": "script",
   "version": "2.12.11"
  }
 },
 "nbformat": 4,
 "nbformat_minor": 4
}
