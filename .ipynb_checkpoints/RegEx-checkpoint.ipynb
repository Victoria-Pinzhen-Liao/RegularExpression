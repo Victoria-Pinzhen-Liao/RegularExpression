{
 "cells": [
  {
   "cell_type": "markdown",
   "metadata": {},
   "source": [
    "# Instruction to regular expression\n",
    "\n",
    "by Victoria Liao\n",
    "\n",
    "## Table of content\n",
    "\n",
    "1. What is regular expression\n",
    "1. Regular expression in Scala\n",
    "    - Regex function #r\n",
    "    - Find & Replace \n",
    "1. Regular expression patterns\n",
    "    - Basic tokens\n",
    "    - Practical problems\n",
    "1. Reference\n",
    "------------------------"
   ]
  },
  {
   "cell_type": "code",
   "execution_count": 15,
   "metadata": {},
   "outputs": [
    {
     "name": "stderr",
     "output_type": "stream",
     "text": [
      "cmd15.sc:1: not found: value %\n",
      "val res15 = %reload_ext mermaid\n",
      "            ^cmd15.sc:1: not found: value mermaid\n",
      "val res15 = %reload_ext mermaid\n",
      "                        ^Compilation Failed"
     ]
    },
    {
     "ename": "",
     "evalue": "",
     "output_type": "error",
     "traceback": [
      "Compilation Failed"
     ]
    }
   ],
   "source": [
    "%reload_ext mermaid"
   ]
  },
  {
   "cell_type": "markdown",
   "metadata": {},
   "source": [
    "# 1. What is regular expression?\n",
    "\n",
    "Everything in a string is essentially a character, and we are writing patterns to match a specific string. This\n",
    "pattern is called regular expression. Regular expressions are useful in extracting information from text.\n",
    "\n",
    "---------------------------------------"
   ]
  },
  {
   "cell_type": "markdown",
   "metadata": {},
   "source": [
    "# 2. Regular expression in Scala\n"
   ]
  },
  {
   "cell_type": "code",
   "execution_count": 15,
   "metadata": {},
   "outputs": [
    {
     "data": {
      "text/plain": [
       "\u001b[32mimport \u001b[39m\u001b[36mscala.util.matching.Regex\n",
       "\n",
       "\u001b[39m\n",
       "\u001b[36mtext\u001b[39m: \u001b[32mString\u001b[39m = \u001b[32m\"scala is scalable\"\u001b[39m"
      ]
     },
     "execution_count": 15,
     "metadata": {},
     "output_type": "execute_result"
    }
   ],
   "source": [
    "//  Scala dependency requirement \n",
    "\n",
    "import scala.util.matching.Regex\n",
    "\n",
    "val text = \"scala is scalable\""
   ]
  },
  {
   "cell_type": "markdown",
   "metadata": {},
   "source": [
    "--------------------\n",
    "\n",
    "## 2.1 Regex function #r \n",
    "\n",
    "We create a String and call the r( ) / .r method on it. \n",
    "\n",
    "\n",
    "```mermaid\n",
    "graph \n",
    "A( - A - <br> Money lender <br> CDS buyer) --\"Lend money\" --> B( - B - <br> Money borrower <br> Mid-range rating);\n",
    "A( - A - <br> Money lender <br>CDS buyer) --\"buy CDS\" --> C( - C - <br> CDS seller <br> High-range rating);\n",
    "```\n",
    "\n",
    "Scala implicitly converts the String to a RichString and invokes that method to get an instance of Regex. "
   ]
  },
  {
   "cell_type": "code",
   "execution_count": 14,
   "metadata": {},
   "outputs": [
    {
     "data": {
      "text/plain": [
       "\u001b[36mpattern\u001b[39m: \u001b[32mRegex\u001b[39m = scala"
      ]
     },
     "execution_count": 14,
     "metadata": {},
     "output_type": "execute_result"
    }
   ],
   "source": [
    " val pattern = \"scala\".r"
   ]
  },
  {
   "cell_type": "markdown",
   "metadata": {},
   "source": [
    "## 2.2 Find & replace\n",
    "\n",
    "### findFirstIn / replaceFirstIn\n",
    "\n",
    "To find / replace a first match of the regular expression "
   ]
  },
  {
   "cell_type": "code",
   "execution_count": 16,
   "metadata": {},
   "outputs": [
    {
     "data": {
      "text/plain": [
       "\u001b[36mres15\u001b[39m: \u001b[32mOption\u001b[39m[\u001b[32mString\u001b[39m] = \u001b[33mSome\u001b[39m(\u001b[32m\"scala\"\u001b[39m)"
      ]
     },
     "execution_count": 16,
     "metadata": {},
     "output_type": "execute_result"
    }
   ],
   "source": [
    "pattern findFirstIn text"
   ]
  },
  {
   "cell_type": "code",
   "execution_count": 22,
   "metadata": {},
   "outputs": [
    {
     "data": {
      "text/plain": [
       "\u001b[36mReplacedText\u001b[39m: \u001b[32mString\u001b[39m = \u001b[32m\"*********\"\u001b[39m\n",
       "\u001b[36mres21_1\u001b[39m: \u001b[32mString\u001b[39m = \u001b[32m\"********* is scalable\"\u001b[39m"
      ]
     },
     "execution_count": 22,
     "metadata": {},
     "output_type": "execute_result"
    }
   ],
   "source": [
    "val ReplacedText = \"*********\"\n",
    "\n",
    "pattern replaceFirstIn(text, ReplacedText)"
   ]
  },
  {
   "cell_type": "markdown",
   "metadata": {},
   "source": [
    "### findAlltIn / replaceAllIn\n",
    "\n",
    "To find / replace all occurrences of the matching word"
   ]
  },
  {
   "cell_type": "code",
   "execution_count": 23,
   "metadata": {},
   "outputs": [
    {
     "name": "stdout",
     "output_type": "stream",
     "text": [
      "scala\n",
      "scala\n"
     ]
    }
   ],
   "source": [
    "pattern findAllIn text foreach println"
   ]
  },
  {
   "cell_type": "code",
   "execution_count": 24,
   "metadata": {},
   "outputs": [
    {
     "data": {
      "text/plain": [
       "\u001b[36mres23\u001b[39m: \u001b[32mString\u001b[39m = \u001b[32m\"********* is *********ble\"\u001b[39m"
      ]
     },
     "execution_count": 24,
     "metadata": {},
     "output_type": "execute_result"
    }
   ],
   "source": [
    "pattern replaceAllIn(text, ReplacedText)"
   ]
  },
  {
   "cell_type": "markdown",
   "metadata": {},
   "source": [
    "----------------------\n",
    "# Regular expression patterns\n",
    "\n",
    "\n",
    "## Basic tokens\n",
    "\n",
    "1. The ABCs - match \"abc\" in strings\n",
    "----------------------"
   ]
  },
  {
   "cell_type": "markdown",
   "metadata": {},
   "source": [
    "### The ABCs - match \"abc\" in strings\n",
    "\n",
    "\n",
    "| Task  | String |\n",
    "|:------|:-------|\n",
    "| Match | abc    |\n",
    "| Match | aabcc  |\n",
    "| Match | abccc  |"
   ]
  },
  {
   "cell_type": "code",
   "execution_count": null,
   "metadata": {},
   "outputs": [],
   "source": [
    "\n"
   ]
  },
  {
   "cell_type": "markdown",
   "metadata": {},
   "source": [
    "# Reference\n",
    "\n",
    "1. Regexone.com. 2021. RegexOne - Learn Regular Expressions - Lesson 1: An Introduction, and the ABCs.\n",
    "[online] Available at: [RegexOne - Learn Regular Expressions, 2021](https://regexone.com/lesson/introduction_abcs) [Accessed 5 June 2021].\n",
    "1. Tutorialspoint.com. 2021. Scala - Regular Expressions - Tutorialspoint. [online] Available at: [Scala -\n",
    "Regular Expressions - Tutorialspoint, 2021](https://www.tutorialspoint.com/scala/scala_regular_expressions.htm) [Accessed 5 June 2021]\n",
    "1. Dib, F., 2021. regex101: build, test, and debug regex. [online] regex101. Available at: [Dib, 2021](https://regex101.com/) [Accessed 5 June 2021]."
   ]
  },
  {
   "cell_type": "code",
   "execution_count": null,
   "metadata": {},
   "outputs": [],
   "source": []
  }
 ],
 "metadata": {
  "kernelspec": {
   "display_name": "Scala 2.12.11",
   "language": "scala",
   "name": "scala_2_12_11"
  },
  "language_info": {
   "codemirror_mode": "text/x-scala",
   "file_extension": ".scala",
   "mimetype": "text/x-scala",
   "name": "scala",
   "nbconvert_exporter": "script",
   "version": "2.12.11"
  }
 },
 "nbformat": 4,
 "nbformat_minor": 4
}
