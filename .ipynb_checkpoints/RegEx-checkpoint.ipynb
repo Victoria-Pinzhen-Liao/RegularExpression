{
 "cells": [
  {
   "cell_type": "markdown",
   "metadata": {},
   "source": [
    "# Instruction to regular expression \n",
    "\n",
    "by Victoria Liao\n",
    "\n",
    "Note: this tutorial is written in Scala but the patterns can be used in other languages\n",
    "\n",
    "-----------------------------------------------------------\n",
    "\n",
    "### Table of content\n",
    "\n",
    "1. What is regular expression\n",
    "1. Regular expression patterns\n",
    "    - Basic tokens\n",
    "    - Practical problems\n",
    "1. Reference\n",
    "\n",
    "------------------------\n",
    "\n",
    "Downlaod jupter notebook to markdown / pdf / html\n",
    "\n",
    "```\n",
    "jupyter nbconvert --to pdf your_jupyter_notebook.ipynb\n",
    "jupyter nbconvert --to markdown your_jupyter_notebook.ipynb\n",
    "jupyter nbconvert --to html your_jupyter_notebook.ipynb\n",
    "```"
   ]
  },
  {
   "cell_type": "markdown",
   "metadata": {},
   "source": [
    "## 1. What is regular expression?\n",
    "\n",
    "Everything in a string is essentially a character, and we are writing patterns to match a specific string. This\n",
    "pattern is called regular expression. \n",
    "\n",
    "Regular expressions are useful in extracting information from text.\n",
    "\n",
    "---------------------------------------"
   ]
  },
  {
   "cell_type": "markdown",
   "metadata": {},
   "source": [
    "----------------------\n",
    "## 2. Regular expression patterns\n",
    "\n",
    "To make it easier, I always use `#findFirstIn` in the section.\n",
    "\n",
    "### 2.1 Basic tokens\n",
    "\n",
    "#### Exact match \n",
    "1. \"abc\": Match a sub string that is the same as the pattern\n",
    "--------------------\n",
    "\n",
    "#### Digit\n",
    "1. \\d: Any digit from 0 to 9\n",
    "1. \\D: Any Non-digit character\n",
    "--------------------\n",
    "\n",
    "#### Wildcard\n",
    "1. Dot \".\": the wildcard\n",
    "\n",
    "--------------------\n",
    "\n",
    "#### Match character\n",
    "1. [abc]: Match specific characters\n",
    "1. [^abc]: Exclude specific characters\n",
    "\n",
    "--------------------\n",
    "\n",
    "#### Range\n",
    "1. [a-z]: Match a char within the range\n",
    "1. [^a-z]: Exclude a char within the range\n",
    "1. [a-z0-9]: Match a char within multiple ranges\n",
    "\n",
    "--------------------\n",
    "\n",
    "#### Alphanumeric\n",
    "\n",
    "1. \"\\w\": Any Alphanumeric character\n",
    "1. \"\\W\": Any Non-alphanumeric character\n",
    "----------------------\n"
   ]
  },
  {
   "cell_type": "code",
   "execution_count": 34,
   "metadata": {},
   "outputs": [
    {
     "data": {
      "text/plain": [
       "\u001b[32mimport \u001b[39m\u001b[36mscala.util.matching.Regex\u001b[39m"
      ]
     },
     "execution_count": 34,
     "metadata": {},
     "output_type": "execute_result"
    }
   ],
   "source": [
    "//  Scala dependency \n",
    "import scala.util.matching.Regex"
   ]
  },
  {
   "cell_type": "markdown",
   "metadata": {},
   "source": [
    "### Exact match \n",
    "#### \"abc\": Match a sub string that is the same as the pattern\n",
    "\n",
    "\n",
    "Pattern `\"foo 1\"` \n",
    "\n",
    "Match `\"foo 1\"` in \n",
    " - `\"foo 1 fooo\"`\n",
    " - `\"bar foo 1\"`"
   ]
  },
  {
   "cell_type": "code",
   "execution_count": 35,
   "metadata": {},
   "outputs": [
    {
     "data": {
      "text/plain": [
       "\u001b[36mpattern\u001b[39m: \u001b[32mRegex\u001b[39m = foo 1\n",
       "\u001b[36mtext\u001b[39m: \u001b[32mString\u001b[39m = \u001b[32m\"foo 1 fooo\"\u001b[39m\n",
       "\u001b[36mres34_2\u001b[39m: \u001b[32mOption\u001b[39m[\u001b[32mString\u001b[39m] = \u001b[33mSome\u001b[39m(\u001b[32m\"foo 1\"\u001b[39m)"
      ]
     },
     "execution_count": 35,
     "metadata": {},
     "output_type": "execute_result"
    }
   ],
   "source": [
    "val pattern = \"foo 1\".r\n",
    "val text = \"foo 1 fooo\"\n",
    "pattern findFirstIn text "
   ]
  },
  {
   "cell_type": "markdown",
   "metadata": {},
   "source": [
    "-----------------------------------\n",
    "\n",
    "### Digit\n",
    "\n",
    "#### \\d: Any digit from 0 to 9 \n",
    "\n",
    "The preceding slash `\\` distinguishes it from the simple d character and indicates that it is a metacharacter.\n",
    "\n",
    "> Take away: need to use double slash in Scala string for \\d - `\"\\\\d\".r`\n",
    "\n",
    "-----------\n",
    "\n",
    "Pattern `\"\\\\d\"`\n",
    "\n",
    " Match `1` in `1234`\n",
    " \n",
    " Match `2` in `2 foo`\n",
    "\n",
    "-------------------------\n",
    "\n",
    "### \\D: Any Non-digit character\n",
    "\n",
    "\n",
    "Pattern `\"\\\\D\"`\n",
    "\n",
    " Match `\" \"` (space) in `1234 a`\n",
    " \n",
    " Match `a` in `a 2 foo`\n"
   ]
  },
  {
   "cell_type": "code",
   "execution_count": 36,
   "metadata": {},
   "outputs": [
    {
     "data": {
      "text/plain": [
       "\u001b[36mpattern\u001b[39m: \u001b[32mRegex\u001b[39m = \\d\n",
       "\u001b[36mtext\u001b[39m: \u001b[32mString\u001b[39m = \u001b[32m\"1234\"\u001b[39m\n",
       "\u001b[36mres35_2\u001b[39m: \u001b[32mOption\u001b[39m[\u001b[32mString\u001b[39m] = \u001b[33mSome\u001b[39m(\u001b[32m\"1\"\u001b[39m)"
      ]
     },
     "execution_count": 36,
     "metadata": {},
     "output_type": "execute_result"
    }
   ],
   "source": [
    "val pattern = \"\\\\d\".r\n",
    "val text = \"1234\"\n",
    "pattern findFirstIn text "
   ]
  },
  {
   "cell_type": "code",
   "execution_count": 37,
   "metadata": {},
   "outputs": [
    {
     "data": {
      "text/plain": [
       "\u001b[36mpattern\u001b[39m: \u001b[32mRegex\u001b[39m = \\d\n",
       "\u001b[36mtext\u001b[39m: \u001b[32mString\u001b[39m = \u001b[32m\"2 foo\"\u001b[39m\n",
       "\u001b[36mres36_2\u001b[39m: \u001b[32mOption\u001b[39m[\u001b[32mString\u001b[39m] = \u001b[33mSome\u001b[39m(\u001b[32m\"2\"\u001b[39m)"
      ]
     },
     "execution_count": 37,
     "metadata": {},
     "output_type": "execute_result"
    }
   ],
   "source": [
    "val pattern = \"\\\\d\".r\n",
    "val text = \"2 foo\"\n",
    "pattern findFirstIn text "
   ]
  },
  {
   "cell_type": "code",
   "execution_count": 38,
   "metadata": {},
   "outputs": [
    {
     "data": {
      "text/plain": [
       "\u001b[36mpattern\u001b[39m: \u001b[32mRegex\u001b[39m = \\D\n",
       "\u001b[36mtext\u001b[39m: \u001b[32mString\u001b[39m = \u001b[32m\"1234 a\"\u001b[39m\n",
       "\u001b[36mres37_2\u001b[39m: \u001b[32mOption\u001b[39m[\u001b[32mString\u001b[39m] = \u001b[33mSome\u001b[39m(\u001b[32m\" \"\u001b[39m)"
      ]
     },
     "execution_count": 38,
     "metadata": {},
     "output_type": "execute_result"
    }
   ],
   "source": [
    "val pattern = \"\\\\D\".r\n",
    "val text = \"1234 a\"\n",
    "pattern findFirstIn text "
   ]
  },
  {
   "cell_type": "code",
   "execution_count": 39,
   "metadata": {},
   "outputs": [
    {
     "data": {
      "text/plain": [
       "\u001b[36mpattern\u001b[39m: \u001b[32mRegex\u001b[39m = \\D\n",
       "\u001b[36mtext\u001b[39m: \u001b[32mString\u001b[39m = \u001b[32m\"a 2 foo\"\u001b[39m\n",
       "\u001b[36mres38_2\u001b[39m: \u001b[32mOption\u001b[39m[\u001b[32mString\u001b[39m] = \u001b[33mSome\u001b[39m(\u001b[32m\"a\"\u001b[39m)"
      ]
     },
     "execution_count": 39,
     "metadata": {},
     "output_type": "execute_result"
    }
   ],
   "source": [
    "val pattern = \"\\\\D\".r\n",
    "val text = \"a 2 foo\"\n",
    "pattern findFirstIn text "
   ]
  },
  {
   "cell_type": "markdown",
   "metadata": {},
   "source": [
    "---------------------\n",
    "\n",
    "### Wildcard\n",
    "\n",
    "##### Dot \".\": the wildcard\n",
    "\n",
    "A wildcard is a card that can represent any card in the deck in poker games. Similarly, . (dot)  can match any single character (letter, digit, whitespace, everything). \n",
    "\n",
    "```\n",
    "Note: \n",
    ".  is the wildcard\n",
    "\\\\. is the dot symbol / period\n",
    "```\n",
    "-----------\n",
    "\n",
    "Pattern `...\\\\.` \n",
    "\n",
    "Match \n",
    "- `\"cat.\"`\n",
    "- `\"896.\"`\n",
    "- `\"?=+.\"`\t\n",
    "\n",
    "Skip\t\n",
    "- `abc1`"
   ]
  },
  {
   "cell_type": "code",
   "execution_count": 40,
   "metadata": {},
   "outputs": [
    {
     "data": {
      "text/plain": [
       "\u001b[36mpattern\u001b[39m: \u001b[32mRegex\u001b[39m = ...\\.\n",
       "\u001b[36mtext\u001b[39m: \u001b[32mString\u001b[39m = \u001b[32m\"cat.\"\u001b[39m\n",
       "\u001b[36mres39_2\u001b[39m: \u001b[32mOption\u001b[39m[\u001b[32mString\u001b[39m] = \u001b[33mSome\u001b[39m(\u001b[32m\"cat.\"\u001b[39m)"
      ]
     },
     "execution_count": 40,
     "metadata": {},
     "output_type": "execute_result"
    }
   ],
   "source": [
    "val pattern = \"...\\\\.\".r\n",
    "val text = \"cat.\"\n",
    "pattern findFirstIn text "
   ]
  },
  {
   "cell_type": "code",
   "execution_count": 41,
   "metadata": {},
   "outputs": [
    {
     "data": {
      "text/plain": [
       "\u001b[36mpattern\u001b[39m: \u001b[32mRegex\u001b[39m = ...\\.\n",
       "\u001b[36mtext\u001b[39m: \u001b[32mString\u001b[39m = \u001b[32m\"abc1\"\u001b[39m\n",
       "\u001b[36mres40_2\u001b[39m: \u001b[32mOption\u001b[39m[\u001b[32mString\u001b[39m] = \u001b[32mNone\u001b[39m"
      ]
     },
     "execution_count": 41,
     "metadata": {},
     "output_type": "execute_result"
    }
   ],
   "source": [
    "val pattern = \"...\\\\.\".r\n",
    "val text = \"abc1\"\n",
    "pattern findFirstIn text "
   ]
  },
  {
   "cell_type": "markdown",
   "metadata": {},
   "source": [
    "### Match character\n",
    "\n",
    "#### [abc]: Match specific characters\n",
    "\n",
    "Defining the specific characters you want to match inside square brackets. \n",
    "\n",
    "For example, the pattern `[abc]` will only match a single `a`, `b`, or `c` letter and nothing else.\n",
    "\n",
    "-----------\n",
    "\n",
    "Pattern `[cmf]an`\n",
    "\n",
    "Match \n",
    "- `\"can\"`\n",
    "- `\"man\"`\n",
    "- `\"fan\"`\t\n",
    "\n",
    "Skip\t\n",
    "- `dan`\n",
    "- `ran`\n",
    "- `pan`\n",
    "\n",
    "-----------\n",
    "\n",
    "#### [^abc]: Exclude specific characters\n",
    "\n",
    "We exclude specific characters by using the square brackets and the `^` (hat). \n",
    "For example, the pattern `[^abc]` will match any single character except for the letters `a`, `b`, or `c`.\n",
    "\n",
    "-----------\n",
    "\n",
    "Pattern `[^cmf]an`\n",
    "\n",
    "Match \n",
    "- `dan`\n",
    "- `ran`\n",
    "- `pan`\n",
    "\n",
    "Skip\t\n",
    "- `\"can\"`\n",
    "- `\"man\"`\n",
    "- `\"fan\"`\t\n",
    "\n"
   ]
  },
  {
   "cell_type": "code",
   "execution_count": 42,
   "metadata": {},
   "outputs": [
    {
     "data": {
      "text/plain": [
       "\u001b[36mpattern\u001b[39m: \u001b[32mRegex\u001b[39m = [cmf]an\n",
       "\u001b[36mtext\u001b[39m: \u001b[32mString\u001b[39m = \u001b[32m\"can\"\u001b[39m\n",
       "\u001b[36mres41_2\u001b[39m: \u001b[32mOption\u001b[39m[\u001b[32mString\u001b[39m] = \u001b[33mSome\u001b[39m(\u001b[32m\"can\"\u001b[39m)"
      ]
     },
     "execution_count": 42,
     "metadata": {},
     "output_type": "execute_result"
    }
   ],
   "source": [
    "val pattern = \"[cmf]an\".r\n",
    "val text = \"can\"\n",
    "pattern findFirstIn text "
   ]
  },
  {
   "cell_type": "code",
   "execution_count": 43,
   "metadata": {},
   "outputs": [
    {
     "data": {
      "text/plain": [
       "\u001b[36mpattern\u001b[39m: \u001b[32mRegex\u001b[39m = [cmf]an\n",
       "\u001b[36mtext\u001b[39m: \u001b[32mString\u001b[39m = \u001b[32m\"dan\"\u001b[39m\n",
       "\u001b[36mres42_2\u001b[39m: \u001b[32mOption\u001b[39m[\u001b[32mString\u001b[39m] = \u001b[32mNone\u001b[39m"
      ]
     },
     "execution_count": 43,
     "metadata": {},
     "output_type": "execute_result"
    }
   ],
   "source": [
    "val pattern = \"[cmf]an\".r\n",
    "val text = \"dan\"\n",
    "pattern findFirstIn text "
   ]
  },
  {
   "cell_type": "markdown",
   "metadata": {},
   "source": []
  },
  {
   "cell_type": "code",
   "execution_count": 44,
   "metadata": {},
   "outputs": [
    {
     "data": {
      "text/plain": [
       "\u001b[36mpattern\u001b[39m: \u001b[32mRegex\u001b[39m = [^cmf]an\n",
       "\u001b[36mtext\u001b[39m: \u001b[32mString\u001b[39m = \u001b[32m\"dan\"\u001b[39m\n",
       "\u001b[36mres43_2\u001b[39m: \u001b[32mOption\u001b[39m[\u001b[32mString\u001b[39m] = \u001b[33mSome\u001b[39m(\u001b[32m\"dan\"\u001b[39m)"
      ]
     },
     "execution_count": 44,
     "metadata": {},
     "output_type": "execute_result"
    }
   ],
   "source": [
    "val pattern = \"[^cmf]an\".r\n",
    "val text = \"dan\"\n",
    "pattern findFirstIn text "
   ]
  },
  {
   "cell_type": "code",
   "execution_count": 45,
   "metadata": {},
   "outputs": [
    {
     "data": {
      "text/plain": [
       "\u001b[36mpattern\u001b[39m: \u001b[32mRegex\u001b[39m = [^cmf]an\n",
       "\u001b[36mtext\u001b[39m: \u001b[32mString\u001b[39m = \u001b[32m\"can\"\u001b[39m\n",
       "\u001b[36mres44_2\u001b[39m: \u001b[32mOption\u001b[39m[\u001b[32mString\u001b[39m] = \u001b[32mNone\u001b[39m"
      ]
     },
     "execution_count": 45,
     "metadata": {},
     "output_type": "execute_result"
    }
   ],
   "source": [
    "val pattern = \"[^cmf]an\".r\n",
    "val text = \"can\"\n",
    "pattern findFirstIn text "
   ]
  },
  {
   "cell_type": "markdown",
   "metadata": {},
   "source": [
    "-------------------------------------------\n",
    "\n",
    "### Range\n",
    "\n",
    "#### [a-z]: Match a char within the range\n",
    "\n",
    "Match a character in list of sequential characters by using the dash to indicate a character range. \n",
    "\n",
    "`[0-6]`: match any single digit character from `0` to `6` \n",
    "\n",
    "#### [^a-z]: Exclude a char within the range\n",
    "\n",
    "`[^n-p]`: match any single character except for letters `n` to `p`\n",
    "\n",
    "#### [a-z0-9]: Match a char within multiple ranges\n",
    "Multiple character ranges can also be used in the same set of brackets \n",
    "\n",
    "`[A-Z0-9]`:  match any single digit character from `A-Z` or `0` to `9`  \n",
    "\n"
   ]
  },
  {
   "cell_type": "code",
   "execution_count": 46,
   "metadata": {},
   "outputs": [
    {
     "data": {
      "text/plain": [
       "\u001b[36mpattern\u001b[39m: \u001b[32mRegex\u001b[39m = [A-C][n-p][a-c]\n",
       "\u001b[36mtext\u001b[39m: \u001b[32mString\u001b[39m = \u001b[32m\"Ana\"\u001b[39m\n",
       "\u001b[36mres45_2\u001b[39m: \u001b[32mOption\u001b[39m[\u001b[32mString\u001b[39m] = \u001b[33mSome\u001b[39m(\u001b[32m\"Ana\"\u001b[39m)"
      ]
     },
     "execution_count": 46,
     "metadata": {},
     "output_type": "execute_result"
    }
   ],
   "source": [
    "val pattern = \"[A-C][n-p][a-c]\".r\n",
    "val text = \"Ana\"\n",
    "pattern findFirstIn text "
   ]
  },
  {
   "cell_type": "code",
   "execution_count": 47,
   "metadata": {},
   "outputs": [
    {
     "data": {
      "text/plain": [
       "\u001b[36mpattern\u001b[39m: \u001b[32mRegex\u001b[39m = [A-C][n-p][a-c]\n",
       "\u001b[36mtext\u001b[39m: \u001b[32mString\u001b[39m = \u001b[32m\"aax\"\u001b[39m\n",
       "\u001b[36mres46_2\u001b[39m: \u001b[32mOption\u001b[39m[\u001b[32mString\u001b[39m] = \u001b[32mNone\u001b[39m"
      ]
     },
     "execution_count": 47,
     "metadata": {},
     "output_type": "execute_result"
    }
   ],
   "source": [
    "val pattern = \"[A-C][n-p][a-c]\".r\n",
    "val text = \"aax\"\n",
    "pattern findFirstIn text "
   ]
  },
  {
   "cell_type": "code",
   "execution_count": 48,
   "metadata": {},
   "outputs": [
    {
     "data": {
      "text/plain": [
       "\u001b[36mpattern\u001b[39m: \u001b[32mRegex\u001b[39m = [A-C0-9][A-C0-9]\n",
       "\u001b[36mtext\u001b[39m: \u001b[32mString\u001b[39m = \u001b[32m\"A0x\"\u001b[39m\n",
       "\u001b[36mres47_2\u001b[39m: \u001b[32mOption\u001b[39m[\u001b[32mString\u001b[39m] = \u001b[33mSome\u001b[39m(\u001b[32m\"A0\"\u001b[39m)"
      ]
     },
     "execution_count": 48,
     "metadata": {},
     "output_type": "execute_result"
    }
   ],
   "source": [
    "val pattern = \"[A-C0-9][A-C0-9]\".r\n",
    "val text = \"A0x\"\n",
    "pattern findFirstIn text "
   ]
  },
  {
   "cell_type": "markdown",
   "metadata": {},
   "source": [
    "-----------------------------\n",
    "\n",
    "### Alphanumeric\n",
    "\n",
    "#### \"\\w\":\tAny Alphanumeric character\n",
    "\n",
    "Equivalent to the character range `[A-Za-z0-9_]`\n",
    "\n",
    "Pattern  `\\\\w`\n",
    "\n",
    "Match \n",
    "- `A` in `Ana`\t\n",
    "- `0` in `*012`\n",
    "\n",
    "Skip `\"***\"`\n",
    "\n",
    "-------------------------\n",
    "\n",
    "#### \"\\W\":\tAny Non-alphanumeric character\n",
    "\n",
    "Pattern  `\\\\W`\n",
    "\n",
    "Match  `*` in `\"***\"`\n",
    "\n",
    "Skip \n",
    "- `Ana`\t\n",
    "- `0123 Bob`\n"
   ]
  },
  {
   "cell_type": "code",
   "execution_count": 49,
   "metadata": {},
   "outputs": [
    {
     "data": {
      "text/plain": [
       "\u001b[36mpattern\u001b[39m: \u001b[32mRegex\u001b[39m = \\w\n",
       "\u001b[36mtext\u001b[39m: \u001b[32mString\u001b[39m = \u001b[32m\"*012\"\u001b[39m\n",
       "\u001b[36mres48_2\u001b[39m: \u001b[32mOption\u001b[39m[\u001b[32mString\u001b[39m] = \u001b[33mSome\u001b[39m(\u001b[32m\"0\"\u001b[39m)"
      ]
     },
     "execution_count": 49,
     "metadata": {},
     "output_type": "execute_result"
    }
   ],
   "source": [
    "val pattern = \"\\\\w\".r\n",
    "val text = \"*012\"\n",
    "pattern findFirstIn text "
   ]
  },
  {
   "cell_type": "code",
   "execution_count": 50,
   "metadata": {},
   "outputs": [
    {
     "data": {
      "text/plain": [
       "\u001b[36mpattern\u001b[39m: \u001b[32mRegex\u001b[39m = \\w\n",
       "\u001b[36mtext\u001b[39m: \u001b[32mString\u001b[39m = \u001b[32m\"***\"\u001b[39m\n",
       "\u001b[36mres49_2\u001b[39m: \u001b[32mOption\u001b[39m[\u001b[32mString\u001b[39m] = \u001b[32mNone\u001b[39m"
      ]
     },
     "execution_count": 50,
     "metadata": {},
     "output_type": "execute_result"
    }
   ],
   "source": [
    "val pattern = \"\\\\w\".r\n",
    "val text = \"***\"\n",
    "pattern findFirstIn text "
   ]
  },
  {
   "cell_type": "code",
   "execution_count": 51,
   "metadata": {},
   "outputs": [
    {
     "data": {
      "text/plain": [
       "\u001b[36mpattern\u001b[39m: \u001b[32mRegex\u001b[39m = \\W\n",
       "\u001b[36mtext\u001b[39m: \u001b[32mString\u001b[39m = \u001b[32m\"***\"\u001b[39m\n",
       "\u001b[36mres50_2\u001b[39m: \u001b[32mOption\u001b[39m[\u001b[32mString\u001b[39m] = \u001b[33mSome\u001b[39m(\u001b[32m\"*\"\u001b[39m)"
      ]
     },
     "execution_count": 51,
     "metadata": {},
     "output_type": "execute_result"
    }
   ],
   "source": [
    "val pattern = \"\\\\W\".r\n",
    "val text = \"***\"\n",
    "pattern findFirstIn text "
   ]
  },
  {
   "cell_type": "code",
   "execution_count": 52,
   "metadata": {},
   "outputs": [
    {
     "data": {
      "text/plain": [
       "\u001b[36mpattern\u001b[39m: \u001b[32mRegex\u001b[39m = \\W\n",
       "\u001b[36mtext\u001b[39m: \u001b[32mString\u001b[39m = \u001b[32m\"Ana\"\u001b[39m\n",
       "\u001b[36mres51_2\u001b[39m: \u001b[32mOption\u001b[39m[\u001b[32mString\u001b[39m] = \u001b[32mNone\u001b[39m"
      ]
     },
     "execution_count": 52,
     "metadata": {},
     "output_type": "execute_result"
    }
   ],
   "source": [
    "val pattern = \"\\\\W\".r\n",
    "val text = \"Ana\"\n",
    "pattern findFirstIn text "
   ]
  },
  {
   "cell_type": "code",
   "execution_count": null,
   "metadata": {},
   "outputs": [],
   "source": []
  },
  {
   "cell_type": "markdown",
   "metadata": {},
   "source": [
    "# Reference\n",
    "\n",
    "1. Regexone.com. 2021. RegexOne - Learn Regular Expressions - Lesson 1: An Introduction, and the ABCs.\n",
    "[online] Available at: [RegexOne - Learn Regular Expressions, 2021](https://regexone.com/lesson/introduction_abcs) [Accessed 5 June 2021].\n",
    "1. Tutorialspoint.com. 2021. Scala - Regular Expressions - Tutorialspoint. [online] Available at: [Scala -\n",
    "Regular Expressions - Tutorialspoint, 2021](https://www.tutorialspoint.com/scala/scala_regular_expressions.htm) [Accessed 5 June 2021]\n",
    "1. Dib, F., 2021. regex101: build, test, and debug regex. [online] regex101. Available at: [Dib, 2021](https://regex101.com/) [Accessed 5 June 2021]."
   ]
  }
 ],
 "metadata": {
  "kernelspec": {
   "display_name": "Scala 2.12.11",
   "language": "scala",
   "name": "scala_2_12_11"
  },
  "language_info": {
   "codemirror_mode": "text/x-scala",
   "file_extension": ".scala",
   "mimetype": "text/x-scala",
   "name": "scala",
   "nbconvert_exporter": "script",
   "version": "2.12.11"
  }
 },
 "nbformat": 4,
 "nbformat_minor": 4
}
